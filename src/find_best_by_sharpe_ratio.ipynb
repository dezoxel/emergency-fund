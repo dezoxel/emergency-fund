{
 "cells": [
  {
   "cell_type": "code",
   "execution_count": null,
   "metadata": {},
   "outputs": [],
   "source": [
    "from dotenv import load_dotenv\n",
    "from datetime import datetime\n",
    "\n",
    "from app.cli_args import get_database_path\n",
    "from app.sharpe_ratio import find_and_print_best_savings_account_by_sharpe_ratio\n",
    "from infra.db_connection import db_connect\n",
    "\n",
    "load_dotenv()\n",
    "db_path = get_database_path()\n",
    "conn = db_connect(db_path)\n",
    "current_date = datetime.now()\n",
    "find_and_print_best_savings_account_by_sharpe_ratio(conn, current_date)"
   ]
  },
  {
   "cell_type": "code",
   "execution_count": null,
   "metadata": {},
   "outputs": [],
   "source": [
    "from app.sharpe_ratio import update_apy_last_year\n",
    "from domain.calc_sharpe_ratio import calc_sharpe_ratio_for_every_account\n",
    "from infra.savings_account_apy_last_year_repo import fetch_apy_last_year\n",
    "\n",
    "current_date = datetime.now()\n",
    "update_apy_last_year(conn, current_date)\n",
    "df = fetch_apy_last_year(conn)\n",
    "sr_df = calc_sharpe_ratio_for_every_account(df)\n",
    "sr_df"
   ]
  }
 ],
 "metadata": {
  "kernelspec": {
   "display_name": "Python 3",
   "language": "python",
   "name": "python3"
  },
  "language_info": {
   "codemirror_mode": {
    "name": "ipython",
    "version": 3
   },
   "file_extension": ".py",
   "mimetype": "text/x-python",
   "name": "python",
   "nbconvert_exporter": "python",
   "pygments_lexer": "ipython3",
   "version": "3.11.9"
  }
 },
 "nbformat": 4,
 "nbformat_minor": 2
}
