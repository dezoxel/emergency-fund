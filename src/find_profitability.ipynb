{
 "cells": [
  {
   "cell_type": "code",
   "execution_count": null,
   "metadata": {},
   "outputs": [],
   "source": [
    "from dotenv import load_dotenv\n",
    "import plotly.express as px\n",
    "import plotly.graph_objects as go\n",
    "from datetime import datetime\n",
    "\n",
    "from app.cli_args import get_database_path\n",
    "from infra.db_connection import db_connect\n",
    "from domain.calc_profitability import calc_balance_for_all_accounts\n",
    "from app.sharpe_ratio import find_best_savings_account_by_sharpe_ratio\n",
    "\n",
    "load_dotenv()\n",
    "db_path = get_database_path()\n",
    "conn = db_connect(db_path)\n",
    "df = calc_balance_for_all_accounts(conn)\n",
    "current_date = datetime.now()\n",
    "best_account = find_best_savings_account_by_sharpe_ratio(conn, current_date)\n",
    "best_account"
   ]
  },
  {
   "cell_type": "code",
   "execution_count": null,
   "metadata": {},
   "outputs": [],
   "source": [
    "df"
   ]
  },
  {
   "cell_type": "code",
   "execution_count": null,
   "metadata": {},
   "outputs": [],
   "source": [
    "max_balance_account = df.loc[df['balance'].idxmax()]\n",
    "min_balance_account = df.loc[df['balance'].idxmin()]\n",
    "print('max_balance_account', max_balance_account)\n",
    "print('min_balance_account', min_balance_account)"
   ]
  },
  {
   "cell_type": "markdown",
   "metadata": {},
   "source": [
    "## Account Balances Bar Chart"
   ]
  },
  {
   "cell_type": "code",
   "execution_count": null,
   "metadata": {},
   "outputs": [],
   "source": [
    "\n",
    "df_sorted = df.sort_values(by='balance', ascending=False)\n",
    "df_sorted\n",
    "\n",
    "default_colors = px.colors.qualitative.Plotly\n",
    "highlight_color = default_colors[1]\n",
    "normal_color = default_colors[0]\n",
    "\n",
    "colors = [highlight_color if account == best_account['account_id'] else normal_color for account in df_sorted['accountId']]\n",
    "\n",
    "fig = go.Figure()\n",
    "\n",
    "for account, balance, color in zip(df_sorted['accountName'], df_sorted['balance'], colors):\n",
    "    fig.add_trace(go.Bar(\n",
    "        x=[account],\n",
    "        y=[balance],\n",
    "        name=account,\n",
    "        marker_color=color\n",
    "    ))\n",
    "\n",
    "fig.update_layout(\n",
    "    xaxis_tickangle=-90,\n",
    "    xaxis_tickfont=dict(size=10),\n",
    "    height=800,\n",
    "    width=1000,\n",
    "    yaxis=dict(range=[df['balance'].min()-1, df['balance'].max()]),\n",
    "    showlegend=False\n",
    ")\n",
    "\n",
    "fig.show()\n"
   ]
  }
 ],
 "metadata": {
  "kernelspec": {
   "display_name": "Python 3",
   "language": "python",
   "name": "python3"
  },
  "language_info": {
   "codemirror_mode": {
    "name": "ipython",
    "version": 3
   },
   "file_extension": ".py",
   "mimetype": "text/x-python",
   "name": "python",
   "nbconvert_exporter": "python",
   "pygments_lexer": "ipython3",
   "version": "3.11.9"
  }
 },
 "nbformat": 4,
 "nbformat_minor": 2
}
