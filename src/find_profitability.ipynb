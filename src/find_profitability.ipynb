{
 "cells": [
  {
   "cell_type": "code",
   "execution_count": 25,
   "metadata": {},
   "outputs": [
    {
     "data": {
      "text/plain": [
       "account_id                                                15.0\n",
       "mean                                                  4.063571\n",
       "std                                                   0.189259\n",
       "csp                                                  21.470995\n",
       "account_name    Goldman Sachs Bank USA Cash Management Account\n",
       "Name: 14, dtype: object"
      ]
     },
     "execution_count": 25,
     "metadata": {},
     "output_type": "execute_result"
    }
   ],
   "source": [
    "from dotenv import load_dotenv\n",
    "import plotly.express as px\n",
    "import plotly.graph_objects as go\n",
    "\n",
    "from app.cli_args import get_database_path\n",
    "from infra.db_connection import db_connect\n",
    "from domain.calc_profitability import calc_balance_for_all_accounts\n",
    "from app.best_csp_savings_account import find_best_csp_savings_account\n",
    "\n",
    "load_dotenv()\n",
    "db_path = get_database_path()\n",
    "conn = db_connect(db_path)\n",
    "df = calc_balance_for_all_accounts(conn)\n",
    "best_csp_account = find_best_csp_savings_account(conn)\n",
    "best_csp_account"
   ]
  },
  {
   "cell_type": "code",
   "execution_count": 3,
   "metadata": {},
   "outputs": [
    {
     "data": {
      "text/html": [
       "<div>\n",
       "<style scoped>\n",
       "    .dataframe tbody tr th:only-of-type {\n",
       "        vertical-align: middle;\n",
       "    }\n",
       "\n",
       "    .dataframe tbody tr th {\n",
       "        vertical-align: top;\n",
       "    }\n",
       "\n",
       "    .dataframe thead th {\n",
       "        text-align: right;\n",
       "    }\n",
       "</style>\n",
       "<table border=\"1\" class=\"dataframe\">\n",
       "  <thead>\n",
       "    <tr style=\"text-align: right;\">\n",
       "      <th></th>\n",
       "      <th>accountId</th>\n",
       "      <th>accountName</th>\n",
       "      <th>balance</th>\n",
       "    </tr>\n",
       "  </thead>\n",
       "  <tbody>\n",
       "    <tr>\n",
       "      <th>0</th>\n",
       "      <td>1</td>\n",
       "      <td>Bank of America High-Yield Savings Account</td>\n",
       "      <td>1042.155938</td>\n",
       "    </tr>\n",
       "    <tr>\n",
       "      <th>1</th>\n",
       "      <td>2</td>\n",
       "      <td>Bank of America Money Market Account</td>\n",
       "      <td>1043.203640</td>\n",
       "    </tr>\n",
       "    <tr>\n",
       "      <th>2</th>\n",
       "      <td>3</td>\n",
       "      <td>Bank of America Cash Management Account</td>\n",
       "      <td>1038.222307</td>\n",
       "    </tr>\n",
       "    <tr>\n",
       "      <th>3</th>\n",
       "      <td>4</td>\n",
       "      <td>Chase Bank High-Yield Savings Account</td>\n",
       "      <td>1041.557269</td>\n",
       "    </tr>\n",
       "    <tr>\n",
       "      <th>4</th>\n",
       "      <td>5</td>\n",
       "      <td>Chase Bank Money Market Account</td>\n",
       "      <td>1041.744104</td>\n",
       "    </tr>\n",
       "    <tr>\n",
       "      <th>5</th>\n",
       "      <td>6</td>\n",
       "      <td>Chase Bank Cash Management Account</td>\n",
       "      <td>1040.570507</td>\n",
       "    </tr>\n",
       "    <tr>\n",
       "      <th>6</th>\n",
       "      <td>7</td>\n",
       "      <td>Wells Fargo High-Yield Savings Account</td>\n",
       "      <td>1042.115873</td>\n",
       "    </tr>\n",
       "    <tr>\n",
       "      <th>7</th>\n",
       "      <td>8</td>\n",
       "      <td>Wells Fargo Money Market Account</td>\n",
       "      <td>1039.632901</td>\n",
       "    </tr>\n",
       "    <tr>\n",
       "      <th>8</th>\n",
       "      <td>9</td>\n",
       "      <td>Wells Fargo Cash Management Account</td>\n",
       "      <td>1039.885813</td>\n",
       "    </tr>\n",
       "    <tr>\n",
       "      <th>9</th>\n",
       "      <td>10</td>\n",
       "      <td>Ally Bank High-Yield Savings Account</td>\n",
       "      <td>1041.097909</td>\n",
       "    </tr>\n",
       "    <tr>\n",
       "      <th>10</th>\n",
       "      <td>11</td>\n",
       "      <td>Ally Bank Money Market Account</td>\n",
       "      <td>1039.917534</td>\n",
       "    </tr>\n",
       "    <tr>\n",
       "      <th>11</th>\n",
       "      <td>12</td>\n",
       "      <td>Ally Bank Cash Management Account</td>\n",
       "      <td>1040.787635</td>\n",
       "    </tr>\n",
       "    <tr>\n",
       "      <th>12</th>\n",
       "      <td>13</td>\n",
       "      <td>Goldman Sachs Bank USA High-Yield Savings Account</td>\n",
       "      <td>1042.795519</td>\n",
       "    </tr>\n",
       "    <tr>\n",
       "      <th>13</th>\n",
       "      <td>14</td>\n",
       "      <td>Goldman Sachs Bank USA Money Market Account</td>\n",
       "      <td>1041.009948</td>\n",
       "    </tr>\n",
       "    <tr>\n",
       "      <th>14</th>\n",
       "      <td>15</td>\n",
       "      <td>Goldman Sachs Bank USA Cash Management Account</td>\n",
       "      <td>1038.344214</td>\n",
       "    </tr>\n",
       "    <tr>\n",
       "      <th>15</th>\n",
       "      <td>16</td>\n",
       "      <td>American Express National Bank High-Yield Savi...</td>\n",
       "      <td>1042.439978</td>\n",
       "    </tr>\n",
       "    <tr>\n",
       "      <th>16</th>\n",
       "      <td>17</td>\n",
       "      <td>American Express National Bank Money Market Ac...</td>\n",
       "      <td>1040.371425</td>\n",
       "    </tr>\n",
       "    <tr>\n",
       "      <th>17</th>\n",
       "      <td>18</td>\n",
       "      <td>American Express National Bank Cash Management...</td>\n",
       "      <td>1040.473282</td>\n",
       "    </tr>\n",
       "    <tr>\n",
       "      <th>18</th>\n",
       "      <td>19</td>\n",
       "      <td>Capital One High-Yield Savings Account</td>\n",
       "      <td>1041.067281</td>\n",
       "    </tr>\n",
       "    <tr>\n",
       "      <th>19</th>\n",
       "      <td>20</td>\n",
       "      <td>Capital One Money Market Account</td>\n",
       "      <td>1039.770198</td>\n",
       "    </tr>\n",
       "    <tr>\n",
       "      <th>20</th>\n",
       "      <td>21</td>\n",
       "      <td>Capital One Cash Management Account</td>\n",
       "      <td>1039.149472</td>\n",
       "    </tr>\n",
       "    <tr>\n",
       "      <th>21</th>\n",
       "      <td>22</td>\n",
       "      <td>Discover Bank High-Yield Savings Account</td>\n",
       "      <td>1044.390011</td>\n",
       "    </tr>\n",
       "    <tr>\n",
       "      <th>22</th>\n",
       "      <td>23</td>\n",
       "      <td>Discover Bank Money Market Account</td>\n",
       "      <td>1042.376599</td>\n",
       "    </tr>\n",
       "    <tr>\n",
       "      <th>23</th>\n",
       "      <td>24</td>\n",
       "      <td>Discover Bank Cash Management Account</td>\n",
       "      <td>1040.142397</td>\n",
       "    </tr>\n",
       "    <tr>\n",
       "      <th>24</th>\n",
       "      <td>25</td>\n",
       "      <td>Barclays Bank Delaware High-Yield Savings Account</td>\n",
       "      <td>1041.035328</td>\n",
       "    </tr>\n",
       "    <tr>\n",
       "      <th>25</th>\n",
       "      <td>26</td>\n",
       "      <td>Barclays Bank Delaware Money Market Account</td>\n",
       "      <td>1039.780005</td>\n",
       "    </tr>\n",
       "    <tr>\n",
       "      <th>26</th>\n",
       "      <td>27</td>\n",
       "      <td>Barclays Bank Delaware Cash Management Account</td>\n",
       "      <td>1038.557074</td>\n",
       "    </tr>\n",
       "    <tr>\n",
       "      <th>27</th>\n",
       "      <td>28</td>\n",
       "      <td>Citizens Access High-Yield Savings Account</td>\n",
       "      <td>1041.372346</td>\n",
       "    </tr>\n",
       "    <tr>\n",
       "      <th>28</th>\n",
       "      <td>29</td>\n",
       "      <td>Citizens Access Money Market Account</td>\n",
       "      <td>1042.456445</td>\n",
       "    </tr>\n",
       "    <tr>\n",
       "      <th>29</th>\n",
       "      <td>30</td>\n",
       "      <td>Citizens Access Cash Management Account</td>\n",
       "      <td>1039.539985</td>\n",
       "    </tr>\n",
       "  </tbody>\n",
       "</table>\n",
       "</div>"
      ],
      "text/plain": [
       "    accountId                                        accountName      balance\n",
       "0           1         Bank of America High-Yield Savings Account  1042.155938\n",
       "1           2               Bank of America Money Market Account  1043.203640\n",
       "2           3            Bank of America Cash Management Account  1038.222307\n",
       "3           4              Chase Bank High-Yield Savings Account  1041.557269\n",
       "4           5                    Chase Bank Money Market Account  1041.744104\n",
       "5           6                 Chase Bank Cash Management Account  1040.570507\n",
       "6           7             Wells Fargo High-Yield Savings Account  1042.115873\n",
       "7           8                   Wells Fargo Money Market Account  1039.632901\n",
       "8           9                Wells Fargo Cash Management Account  1039.885813\n",
       "9          10               Ally Bank High-Yield Savings Account  1041.097909\n",
       "10         11                     Ally Bank Money Market Account  1039.917534\n",
       "11         12                  Ally Bank Cash Management Account  1040.787635\n",
       "12         13  Goldman Sachs Bank USA High-Yield Savings Account  1042.795519\n",
       "13         14        Goldman Sachs Bank USA Money Market Account  1041.009948\n",
       "14         15     Goldman Sachs Bank USA Cash Management Account  1038.344214\n",
       "15         16  American Express National Bank High-Yield Savi...  1042.439978\n",
       "16         17  American Express National Bank Money Market Ac...  1040.371425\n",
       "17         18  American Express National Bank Cash Management...  1040.473282\n",
       "18         19             Capital One High-Yield Savings Account  1041.067281\n",
       "19         20                   Capital One Money Market Account  1039.770198\n",
       "20         21                Capital One Cash Management Account  1039.149472\n",
       "21         22           Discover Bank High-Yield Savings Account  1044.390011\n",
       "22         23                 Discover Bank Money Market Account  1042.376599\n",
       "23         24              Discover Bank Cash Management Account  1040.142397\n",
       "24         25  Barclays Bank Delaware High-Yield Savings Account  1041.035328\n",
       "25         26        Barclays Bank Delaware Money Market Account  1039.780005\n",
       "26         27     Barclays Bank Delaware Cash Management Account  1038.557074\n",
       "27         28         Citizens Access High-Yield Savings Account  1041.372346\n",
       "28         29               Citizens Access Money Market Account  1042.456445\n",
       "29         30            Citizens Access Cash Management Account  1039.539985"
      ]
     },
     "execution_count": 3,
     "metadata": {},
     "output_type": "execute_result"
    }
   ],
   "source": [
    "df"
   ]
  },
  {
   "cell_type": "code",
   "execution_count": 4,
   "metadata": {},
   "outputs": [
    {
     "name": "stdout",
     "output_type": "stream",
     "text": [
      "max_balance_account accountId                                            22\n",
      "accountName    Discover Bank High-Yield Savings Account\n",
      "balance                                     1044.390011\n",
      "Name: 21, dtype: object\n",
      "min_balance_account accountId                                            3\n",
      "accountName    Bank of America Cash Management Account\n",
      "balance                                    1038.222307\n",
      "Name: 2, dtype: object\n"
     ]
    }
   ],
   "source": [
    "max_balance_account = df.loc[df['balance'].idxmax()]\n",
    "min_balance_account = df.loc[df['balance'].idxmin()]\n",
    "print('max_balance_account', max_balance_account)\n",
    "print('min_balance_account', min_balance_account)"
   ]
  },
  {
   "cell_type": "markdown",
   "metadata": {},
   "source": [
    "## Account Balances Bar Chart"
   ]
  },
  {
   "cell_type": "code",
   "execution_count": 27,
   "metadata": {},
   "outputs": [
    {
     "data": {
      "application/vnd.plotly.v1+json": {
       "config": {
        "plotlyServerURL": "https://plot.ly"
       },
       "data": [
        {
         "marker": {
          "color": "#636EFA"
         },
         "name": "Discover Bank High-Yield Savings Account",
         "type": "bar",
         "x": [
          "Discover Bank High-Yield Savings Account"
         ],
         "y": [
          1044.3900110168245
         ]
        },
        {
         "marker": {
          "color": "#636EFA"
         },
         "name": "Bank of America Money Market Account",
         "type": "bar",
         "x": [
          "Bank of America Money Market Account"
         ],
         "y": [
          1043.203640029337
         ]
        },
        {
         "marker": {
          "color": "#636EFA"
         },
         "name": "Goldman Sachs Bank USA High-Yield Savings Account",
         "type": "bar",
         "x": [
          "Goldman Sachs Bank USA High-Yield Savings Account"
         ],
         "y": [
          1042.7955192620077
         ]
        },
        {
         "marker": {
          "color": "#636EFA"
         },
         "name": "Citizens Access Money Market Account",
         "type": "bar",
         "x": [
          "Citizens Access Money Market Account"
         ],
         "y": [
          1042.4564445657554
         ]
        },
        {
         "marker": {
          "color": "#636EFA"
         },
         "name": "American Express National Bank High-Yield Savings Account",
         "type": "bar",
         "x": [
          "American Express National Bank High-Yield Savings Account"
         ],
         "y": [
          1042.4399779385149
         ]
        },
        {
         "marker": {
          "color": "#636EFA"
         },
         "name": "Discover Bank Money Market Account",
         "type": "bar",
         "x": [
          "Discover Bank Money Market Account"
         ],
         "y": [
          1042.376599185569
         ]
        },
        {
         "marker": {
          "color": "#636EFA"
         },
         "name": "Bank of America High-Yield Savings Account",
         "type": "bar",
         "x": [
          "Bank of America High-Yield Savings Account"
         ],
         "y": [
          1042.155938018031
         ]
        },
        {
         "marker": {
          "color": "#636EFA"
         },
         "name": "Wells Fargo High-Yield Savings Account",
         "type": "bar",
         "x": [
          "Wells Fargo High-Yield Savings Account"
         ],
         "y": [
          1042.115872552663
         ]
        },
        {
         "marker": {
          "color": "#636EFA"
         },
         "name": "Chase Bank Money Market Account",
         "type": "bar",
         "x": [
          "Chase Bank Money Market Account"
         ],
         "y": [
          1041.7441042475316
         ]
        },
        {
         "marker": {
          "color": "#636EFA"
         },
         "name": "Chase Bank High-Yield Savings Account",
         "type": "bar",
         "x": [
          "Chase Bank High-Yield Savings Account"
         ],
         "y": [
          1041.5572692546664
         ]
        },
        {
         "marker": {
          "color": "#636EFA"
         },
         "name": "Citizens Access High-Yield Savings Account",
         "type": "bar",
         "x": [
          "Citizens Access High-Yield Savings Account"
         ],
         "y": [
          1041.37234628932
         ]
        },
        {
         "marker": {
          "color": "#636EFA"
         },
         "name": "Ally Bank High-Yield Savings Account",
         "type": "bar",
         "x": [
          "Ally Bank High-Yield Savings Account"
         ],
         "y": [
          1041.0979094992394
         ]
        },
        {
         "marker": {
          "color": "#636EFA"
         },
         "name": "Capital One High-Yield Savings Account",
         "type": "bar",
         "x": [
          "Capital One High-Yield Savings Account"
         ],
         "y": [
          1041.0672807634166
         ]
        },
        {
         "marker": {
          "color": "#636EFA"
         },
         "name": "Barclays Bank Delaware High-Yield Savings Account",
         "type": "bar",
         "x": [
          "Barclays Bank Delaware High-Yield Savings Account"
         ],
         "y": [
          1041.0353283564896
         ]
        },
        {
         "marker": {
          "color": "#636EFA"
         },
         "name": "Goldman Sachs Bank USA Money Market Account",
         "type": "bar",
         "x": [
          "Goldman Sachs Bank USA Money Market Account"
         ],
         "y": [
          1041.0099478973702
         ]
        },
        {
         "marker": {
          "color": "#636EFA"
         },
         "name": "Ally Bank Cash Management Account",
         "type": "bar",
         "x": [
          "Ally Bank Cash Management Account"
         ],
         "y": [
          1040.787635323803
         ]
        },
        {
         "marker": {
          "color": "#636EFA"
         },
         "name": "Chase Bank Cash Management Account",
         "type": "bar",
         "x": [
          "Chase Bank Cash Management Account"
         ],
         "y": [
          1040.5705069098121
         ]
        },
        {
         "marker": {
          "color": "#636EFA"
         },
         "name": "American Express National Bank Cash Management Account",
         "type": "bar",
         "x": [
          "American Express National Bank Cash Management Account"
         ],
         "y": [
          1040.4732820503116
         ]
        },
        {
         "marker": {
          "color": "#636EFA"
         },
         "name": "American Express National Bank Money Market Account",
         "type": "bar",
         "x": [
          "American Express National Bank Money Market Account"
         ],
         "y": [
          1040.3714254413217
         ]
        },
        {
         "marker": {
          "color": "#636EFA"
         },
         "name": "Discover Bank Cash Management Account",
         "type": "bar",
         "x": [
          "Discover Bank Cash Management Account"
         ],
         "y": [
          1040.142396902681
         ]
        },
        {
         "marker": {
          "color": "#636EFA"
         },
         "name": "Ally Bank Money Market Account",
         "type": "bar",
         "x": [
          "Ally Bank Money Market Account"
         ],
         "y": [
          1039.9175336324886
         ]
        },
        {
         "marker": {
          "color": "#636EFA"
         },
         "name": "Wells Fargo Cash Management Account",
         "type": "bar",
         "x": [
          "Wells Fargo Cash Management Account"
         ],
         "y": [
          1039.8858131149057
         ]
        },
        {
         "marker": {
          "color": "#636EFA"
         },
         "name": "Barclays Bank Delaware Money Market Account",
         "type": "bar",
         "x": [
          "Barclays Bank Delaware Money Market Account"
         ],
         "y": [
          1039.7800047685912
         ]
        },
        {
         "marker": {
          "color": "#636EFA"
         },
         "name": "Capital One Money Market Account",
         "type": "bar",
         "x": [
          "Capital One Money Market Account"
         ],
         "y": [
          1039.7701981371006
         ]
        },
        {
         "marker": {
          "color": "#636EFA"
         },
         "name": "Wells Fargo Money Market Account",
         "type": "bar",
         "x": [
          "Wells Fargo Money Market Account"
         ],
         "y": [
          1039.63290148997
         ]
        },
        {
         "marker": {
          "color": "#636EFA"
         },
         "name": "Citizens Access Cash Management Account",
         "type": "bar",
         "x": [
          "Citizens Access Cash Management Account"
         ],
         "y": [
          1039.5399852622159
         ]
        },
        {
         "marker": {
          "color": "#636EFA"
         },
         "name": "Capital One Cash Management Account",
         "type": "bar",
         "x": [
          "Capital One Cash Management Account"
         ],
         "y": [
          1039.1494718580475
         ]
        },
        {
         "marker": {
          "color": "#636EFA"
         },
         "name": "Barclays Bank Delaware Cash Management Account",
         "type": "bar",
         "x": [
          "Barclays Bank Delaware Cash Management Account"
         ],
         "y": [
          1038.5570741059064
         ]
        },
        {
         "marker": {
          "color": "#EF553B"
         },
         "name": "Goldman Sachs Bank USA Cash Management Account",
         "type": "bar",
         "x": [
          "Goldman Sachs Bank USA Cash Management Account"
         ],
         "y": [
          1038.3442140038064
         ]
        },
        {
         "marker": {
          "color": "#636EFA"
         },
         "name": "Bank of America Cash Management Account",
         "type": "bar",
         "x": [
          "Bank of America Cash Management Account"
         ],
         "y": [
          1038.2223065187377
         ]
        }
       ],
       "layout": {
        "height": 800,
        "showlegend": false,
        "template": {
         "data": {
          "bar": [
           {
            "error_x": {
             "color": "#2a3f5f"
            },
            "error_y": {
             "color": "#2a3f5f"
            },
            "marker": {
             "line": {
              "color": "#E5ECF6",
              "width": 0.5
             },
             "pattern": {
              "fillmode": "overlay",
              "size": 10,
              "solidity": 0.2
             }
            },
            "type": "bar"
           }
          ],
          "barpolar": [
           {
            "marker": {
             "line": {
              "color": "#E5ECF6",
              "width": 0.5
             },
             "pattern": {
              "fillmode": "overlay",
              "size": 10,
              "solidity": 0.2
             }
            },
            "type": "barpolar"
           }
          ],
          "carpet": [
           {
            "aaxis": {
             "endlinecolor": "#2a3f5f",
             "gridcolor": "white",
             "linecolor": "white",
             "minorgridcolor": "white",
             "startlinecolor": "#2a3f5f"
            },
            "baxis": {
             "endlinecolor": "#2a3f5f",
             "gridcolor": "white",
             "linecolor": "white",
             "minorgridcolor": "white",
             "startlinecolor": "#2a3f5f"
            },
            "type": "carpet"
           }
          ],
          "choropleth": [
           {
            "colorbar": {
             "outlinewidth": 0,
             "ticks": ""
            },
            "type": "choropleth"
           }
          ],
          "contour": [
           {
            "colorbar": {
             "outlinewidth": 0,
             "ticks": ""
            },
            "colorscale": [
             [
              0,
              "#0d0887"
             ],
             [
              0.1111111111111111,
              "#46039f"
             ],
             [
              0.2222222222222222,
              "#7201a8"
             ],
             [
              0.3333333333333333,
              "#9c179e"
             ],
             [
              0.4444444444444444,
              "#bd3786"
             ],
             [
              0.5555555555555556,
              "#d8576b"
             ],
             [
              0.6666666666666666,
              "#ed7953"
             ],
             [
              0.7777777777777778,
              "#fb9f3a"
             ],
             [
              0.8888888888888888,
              "#fdca26"
             ],
             [
              1,
              "#f0f921"
             ]
            ],
            "type": "contour"
           }
          ],
          "contourcarpet": [
           {
            "colorbar": {
             "outlinewidth": 0,
             "ticks": ""
            },
            "type": "contourcarpet"
           }
          ],
          "heatmap": [
           {
            "colorbar": {
             "outlinewidth": 0,
             "ticks": ""
            },
            "colorscale": [
             [
              0,
              "#0d0887"
             ],
             [
              0.1111111111111111,
              "#46039f"
             ],
             [
              0.2222222222222222,
              "#7201a8"
             ],
             [
              0.3333333333333333,
              "#9c179e"
             ],
             [
              0.4444444444444444,
              "#bd3786"
             ],
             [
              0.5555555555555556,
              "#d8576b"
             ],
             [
              0.6666666666666666,
              "#ed7953"
             ],
             [
              0.7777777777777778,
              "#fb9f3a"
             ],
             [
              0.8888888888888888,
              "#fdca26"
             ],
             [
              1,
              "#f0f921"
             ]
            ],
            "type": "heatmap"
           }
          ],
          "heatmapgl": [
           {
            "colorbar": {
             "outlinewidth": 0,
             "ticks": ""
            },
            "colorscale": [
             [
              0,
              "#0d0887"
             ],
             [
              0.1111111111111111,
              "#46039f"
             ],
             [
              0.2222222222222222,
              "#7201a8"
             ],
             [
              0.3333333333333333,
              "#9c179e"
             ],
             [
              0.4444444444444444,
              "#bd3786"
             ],
             [
              0.5555555555555556,
              "#d8576b"
             ],
             [
              0.6666666666666666,
              "#ed7953"
             ],
             [
              0.7777777777777778,
              "#fb9f3a"
             ],
             [
              0.8888888888888888,
              "#fdca26"
             ],
             [
              1,
              "#f0f921"
             ]
            ],
            "type": "heatmapgl"
           }
          ],
          "histogram": [
           {
            "marker": {
             "pattern": {
              "fillmode": "overlay",
              "size": 10,
              "solidity": 0.2
             }
            },
            "type": "histogram"
           }
          ],
          "histogram2d": [
           {
            "colorbar": {
             "outlinewidth": 0,
             "ticks": ""
            },
            "colorscale": [
             [
              0,
              "#0d0887"
             ],
             [
              0.1111111111111111,
              "#46039f"
             ],
             [
              0.2222222222222222,
              "#7201a8"
             ],
             [
              0.3333333333333333,
              "#9c179e"
             ],
             [
              0.4444444444444444,
              "#bd3786"
             ],
             [
              0.5555555555555556,
              "#d8576b"
             ],
             [
              0.6666666666666666,
              "#ed7953"
             ],
             [
              0.7777777777777778,
              "#fb9f3a"
             ],
             [
              0.8888888888888888,
              "#fdca26"
             ],
             [
              1,
              "#f0f921"
             ]
            ],
            "type": "histogram2d"
           }
          ],
          "histogram2dcontour": [
           {
            "colorbar": {
             "outlinewidth": 0,
             "ticks": ""
            },
            "colorscale": [
             [
              0,
              "#0d0887"
             ],
             [
              0.1111111111111111,
              "#46039f"
             ],
             [
              0.2222222222222222,
              "#7201a8"
             ],
             [
              0.3333333333333333,
              "#9c179e"
             ],
             [
              0.4444444444444444,
              "#bd3786"
             ],
             [
              0.5555555555555556,
              "#d8576b"
             ],
             [
              0.6666666666666666,
              "#ed7953"
             ],
             [
              0.7777777777777778,
              "#fb9f3a"
             ],
             [
              0.8888888888888888,
              "#fdca26"
             ],
             [
              1,
              "#f0f921"
             ]
            ],
            "type": "histogram2dcontour"
           }
          ],
          "mesh3d": [
           {
            "colorbar": {
             "outlinewidth": 0,
             "ticks": ""
            },
            "type": "mesh3d"
           }
          ],
          "parcoords": [
           {
            "line": {
             "colorbar": {
              "outlinewidth": 0,
              "ticks": ""
             }
            },
            "type": "parcoords"
           }
          ],
          "pie": [
           {
            "automargin": true,
            "type": "pie"
           }
          ],
          "scatter": [
           {
            "fillpattern": {
             "fillmode": "overlay",
             "size": 10,
             "solidity": 0.2
            },
            "type": "scatter"
           }
          ],
          "scatter3d": [
           {
            "line": {
             "colorbar": {
              "outlinewidth": 0,
              "ticks": ""
             }
            },
            "marker": {
             "colorbar": {
              "outlinewidth": 0,
              "ticks": ""
             }
            },
            "type": "scatter3d"
           }
          ],
          "scattercarpet": [
           {
            "marker": {
             "colorbar": {
              "outlinewidth": 0,
              "ticks": ""
             }
            },
            "type": "scattercarpet"
           }
          ],
          "scattergeo": [
           {
            "marker": {
             "colorbar": {
              "outlinewidth": 0,
              "ticks": ""
             }
            },
            "type": "scattergeo"
           }
          ],
          "scattergl": [
           {
            "marker": {
             "colorbar": {
              "outlinewidth": 0,
              "ticks": ""
             }
            },
            "type": "scattergl"
           }
          ],
          "scattermapbox": [
           {
            "marker": {
             "colorbar": {
              "outlinewidth": 0,
              "ticks": ""
             }
            },
            "type": "scattermapbox"
           }
          ],
          "scatterpolar": [
           {
            "marker": {
             "colorbar": {
              "outlinewidth": 0,
              "ticks": ""
             }
            },
            "type": "scatterpolar"
           }
          ],
          "scatterpolargl": [
           {
            "marker": {
             "colorbar": {
              "outlinewidth": 0,
              "ticks": ""
             }
            },
            "type": "scatterpolargl"
           }
          ],
          "scatterternary": [
           {
            "marker": {
             "colorbar": {
              "outlinewidth": 0,
              "ticks": ""
             }
            },
            "type": "scatterternary"
           }
          ],
          "surface": [
           {
            "colorbar": {
             "outlinewidth": 0,
             "ticks": ""
            },
            "colorscale": [
             [
              0,
              "#0d0887"
             ],
             [
              0.1111111111111111,
              "#46039f"
             ],
             [
              0.2222222222222222,
              "#7201a8"
             ],
             [
              0.3333333333333333,
              "#9c179e"
             ],
             [
              0.4444444444444444,
              "#bd3786"
             ],
             [
              0.5555555555555556,
              "#d8576b"
             ],
             [
              0.6666666666666666,
              "#ed7953"
             ],
             [
              0.7777777777777778,
              "#fb9f3a"
             ],
             [
              0.8888888888888888,
              "#fdca26"
             ],
             [
              1,
              "#f0f921"
             ]
            ],
            "type": "surface"
           }
          ],
          "table": [
           {
            "cells": {
             "fill": {
              "color": "#EBF0F8"
             },
             "line": {
              "color": "white"
             }
            },
            "header": {
             "fill": {
              "color": "#C8D4E3"
             },
             "line": {
              "color": "white"
             }
            },
            "type": "table"
           }
          ]
         },
         "layout": {
          "annotationdefaults": {
           "arrowcolor": "#2a3f5f",
           "arrowhead": 0,
           "arrowwidth": 1
          },
          "autotypenumbers": "strict",
          "coloraxis": {
           "colorbar": {
            "outlinewidth": 0,
            "ticks": ""
           }
          },
          "colorscale": {
           "diverging": [
            [
             0,
             "#8e0152"
            ],
            [
             0.1,
             "#c51b7d"
            ],
            [
             0.2,
             "#de77ae"
            ],
            [
             0.3,
             "#f1b6da"
            ],
            [
             0.4,
             "#fde0ef"
            ],
            [
             0.5,
             "#f7f7f7"
            ],
            [
             0.6,
             "#e6f5d0"
            ],
            [
             0.7,
             "#b8e186"
            ],
            [
             0.8,
             "#7fbc41"
            ],
            [
             0.9,
             "#4d9221"
            ],
            [
             1,
             "#276419"
            ]
           ],
           "sequential": [
            [
             0,
             "#0d0887"
            ],
            [
             0.1111111111111111,
             "#46039f"
            ],
            [
             0.2222222222222222,
             "#7201a8"
            ],
            [
             0.3333333333333333,
             "#9c179e"
            ],
            [
             0.4444444444444444,
             "#bd3786"
            ],
            [
             0.5555555555555556,
             "#d8576b"
            ],
            [
             0.6666666666666666,
             "#ed7953"
            ],
            [
             0.7777777777777778,
             "#fb9f3a"
            ],
            [
             0.8888888888888888,
             "#fdca26"
            ],
            [
             1,
             "#f0f921"
            ]
           ],
           "sequentialminus": [
            [
             0,
             "#0d0887"
            ],
            [
             0.1111111111111111,
             "#46039f"
            ],
            [
             0.2222222222222222,
             "#7201a8"
            ],
            [
             0.3333333333333333,
             "#9c179e"
            ],
            [
             0.4444444444444444,
             "#bd3786"
            ],
            [
             0.5555555555555556,
             "#d8576b"
            ],
            [
             0.6666666666666666,
             "#ed7953"
            ],
            [
             0.7777777777777778,
             "#fb9f3a"
            ],
            [
             0.8888888888888888,
             "#fdca26"
            ],
            [
             1,
             "#f0f921"
            ]
           ]
          },
          "colorway": [
           "#636efa",
           "#EF553B",
           "#00cc96",
           "#ab63fa",
           "#FFA15A",
           "#19d3f3",
           "#FF6692",
           "#B6E880",
           "#FF97FF",
           "#FECB52"
          ],
          "font": {
           "color": "#2a3f5f"
          },
          "geo": {
           "bgcolor": "white",
           "lakecolor": "white",
           "landcolor": "#E5ECF6",
           "showlakes": true,
           "showland": true,
           "subunitcolor": "white"
          },
          "hoverlabel": {
           "align": "left"
          },
          "hovermode": "closest",
          "mapbox": {
           "style": "light"
          },
          "paper_bgcolor": "white",
          "plot_bgcolor": "#E5ECF6",
          "polar": {
           "angularaxis": {
            "gridcolor": "white",
            "linecolor": "white",
            "ticks": ""
           },
           "bgcolor": "#E5ECF6",
           "radialaxis": {
            "gridcolor": "white",
            "linecolor": "white",
            "ticks": ""
           }
          },
          "scene": {
           "xaxis": {
            "backgroundcolor": "#E5ECF6",
            "gridcolor": "white",
            "gridwidth": 2,
            "linecolor": "white",
            "showbackground": true,
            "ticks": "",
            "zerolinecolor": "white"
           },
           "yaxis": {
            "backgroundcolor": "#E5ECF6",
            "gridcolor": "white",
            "gridwidth": 2,
            "linecolor": "white",
            "showbackground": true,
            "ticks": "",
            "zerolinecolor": "white"
           },
           "zaxis": {
            "backgroundcolor": "#E5ECF6",
            "gridcolor": "white",
            "gridwidth": 2,
            "linecolor": "white",
            "showbackground": true,
            "ticks": "",
            "zerolinecolor": "white"
           }
          },
          "shapedefaults": {
           "line": {
            "color": "#2a3f5f"
           }
          },
          "ternary": {
           "aaxis": {
            "gridcolor": "white",
            "linecolor": "white",
            "ticks": ""
           },
           "baxis": {
            "gridcolor": "white",
            "linecolor": "white",
            "ticks": ""
           },
           "bgcolor": "#E5ECF6",
           "caxis": {
            "gridcolor": "white",
            "linecolor": "white",
            "ticks": ""
           }
          },
          "title": {
           "x": 0.05
          },
          "xaxis": {
           "automargin": true,
           "gridcolor": "white",
           "linecolor": "white",
           "ticks": "",
           "title": {
            "standoff": 15
           },
           "zerolinecolor": "white",
           "zerolinewidth": 2
          },
          "yaxis": {
           "automargin": true,
           "gridcolor": "white",
           "linecolor": "white",
           "ticks": "",
           "title": {
            "standoff": 15
           },
           "zerolinecolor": "white",
           "zerolinewidth": 2
          }
         }
        },
        "width": 1000,
        "xaxis": {
         "tickangle": -90,
         "tickfont": {
          "size": 10
         }
        },
        "yaxis": {
         "range": [
          1037.2223065187377,
          1044.3900110168245
         ]
        }
       }
      }
     },
     "metadata": {},
     "output_type": "display_data"
    }
   ],
   "source": [
    "\n",
    "df_sorted = df.sort_values(by='balance', ascending=False)\n",
    "df_sorted\n",
    "\n",
    "default_colors = px.colors.qualitative.Plotly\n",
    "highlight_color = default_colors[1]\n",
    "normal_color = default_colors[0]\n",
    "\n",
    "colors = [highlight_color if account == best_csp_account['account_id'] else normal_color for account in df_sorted['accountId']]\n",
    "\n",
    "fig = go.Figure()\n",
    "\n",
    "for account, balance, color in zip(df_sorted['accountName'], df_sorted['balance'], colors):\n",
    "    fig.add_trace(go.Bar(\n",
    "        x=[account],\n",
    "        y=[balance],\n",
    "        name=account,\n",
    "        marker_color=color\n",
    "    ))\n",
    "\n",
    "fig.update_layout(\n",
    "    xaxis_tickangle=-90,\n",
    "    xaxis_tickfont=dict(size=10),\n",
    "    height=800,\n",
    "    width=1000,\n",
    "    yaxis=dict(range=[df['balance'].min()-1, df['balance'].max()]),\n",
    "    showlegend=False\n",
    ")\n",
    "\n",
    "fig.show()\n"
   ]
  }
 ],
 "metadata": {
  "kernelspec": {
   "display_name": "Python 3",
   "language": "python",
   "name": "python3"
  },
  "language_info": {
   "codemirror_mode": {
    "name": "ipython",
    "version": 3
   },
   "file_extension": ".py",
   "mimetype": "text/x-python",
   "name": "python",
   "nbconvert_exporter": "python",
   "pygments_lexer": "ipython3",
   "version": "3.11.6"
  }
 },
 "nbformat": 4,
 "nbformat_minor": 2
}
