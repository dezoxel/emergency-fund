{
 "cells": [
  {
   "cell_type": "markdown",
   "metadata": {},
   "source": [
    "## Install and Setup"
   ]
  },
  {
   "cell_type": "code",
   "execution_count": 1,
   "metadata": {},
   "outputs": [],
   "source": [
    "from dotenv import load_dotenv\n",
    "import pandas as pd\n",
    "import plotly.express as px\n",
    "\n",
    "from infra.db_connection import db_connect\n",
    "from app.cli_args import get_database_path\n",
    "\n",
    "load_dotenv()\n",
    "db_path = get_database_path()\n",
    "conn = db_connect(db_path)\n",
    "query = \"\"\"\n",
    "    SELECT\n",
    "        saly.account_id,\n",
    "        institution_id,\n",
    "        account_type,\n",
    "        account_name,\n",
    "        date,\n",
    "        apy\n",
    "    FROM savings_accounts sa\n",
    "    JOIN savings_accounts_apy_last_year saly ON sa.id = saly.account_id\n",
    "    \"\"\"\n",
    "df = pd.read_sql_query(query, conn)\n"
   ]
  },
  {
   "cell_type": "markdown",
   "metadata": {},
   "source": [
    "## Descriptive Statistics"
   ]
  },
  {
   "cell_type": "code",
   "execution_count": 2,
   "metadata": {},
   "outputs": [
    {
     "data": {
      "text/html": [
       "<div>\n",
       "<style scoped>\n",
       "    .dataframe tbody tr th:only-of-type {\n",
       "        vertical-align: middle;\n",
       "    }\n",
       "\n",
       "    .dataframe tbody tr th {\n",
       "        vertical-align: top;\n",
       "    }\n",
       "\n",
       "    .dataframe thead th {\n",
       "        text-align: right;\n",
       "    }\n",
       "</style>\n",
       "<table border=\"1\" class=\"dataframe\">\n",
       "  <thead>\n",
       "    <tr style=\"text-align: right;\">\n",
       "      <th></th>\n",
       "      <th>account_id</th>\n",
       "      <th>institution_id</th>\n",
       "      <th>account_type</th>\n",
       "      <th>account_name</th>\n",
       "      <th>date</th>\n",
       "      <th>apy</th>\n",
       "    </tr>\n",
       "  </thead>\n",
       "  <tbody>\n",
       "    <tr>\n",
       "      <th>0</th>\n",
       "      <td>1</td>\n",
       "      <td>1</td>\n",
       "      <td>High-Yield Savings</td>\n",
       "      <td>Bank of America High-Yield Savings Account</td>\n",
       "      <td>2023-08-01</td>\n",
       "      <td>4.049362</td>\n",
       "    </tr>\n",
       "    <tr>\n",
       "      <th>1</th>\n",
       "      <td>1</td>\n",
       "      <td>1</td>\n",
       "      <td>High-Yield Savings</td>\n",
       "      <td>Bank of America High-Yield Savings Account</td>\n",
       "      <td>2023-09-01</td>\n",
       "      <td>4.187136</td>\n",
       "    </tr>\n",
       "    <tr>\n",
       "      <th>2</th>\n",
       "      <td>1</td>\n",
       "      <td>1</td>\n",
       "      <td>High-Yield Savings</td>\n",
       "      <td>Bank of America High-Yield Savings Account</td>\n",
       "      <td>2023-10-01</td>\n",
       "      <td>4.692399</td>\n",
       "    </tr>\n",
       "    <tr>\n",
       "      <th>3</th>\n",
       "      <td>1</td>\n",
       "      <td>1</td>\n",
       "      <td>High-Yield Savings</td>\n",
       "      <td>Bank of America High-Yield Savings Account</td>\n",
       "      <td>2023-11-01</td>\n",
       "      <td>4.743447</td>\n",
       "    </tr>\n",
       "    <tr>\n",
       "      <th>4</th>\n",
       "      <td>1</td>\n",
       "      <td>1</td>\n",
       "      <td>High-Yield Savings</td>\n",
       "      <td>Bank of America High-Yield Savings Account</td>\n",
       "      <td>2023-12-01</td>\n",
       "      <td>4.418870</td>\n",
       "    </tr>\n",
       "    <tr>\n",
       "      <th>...</th>\n",
       "      <td>...</td>\n",
       "      <td>...</td>\n",
       "      <td>...</td>\n",
       "      <td>...</td>\n",
       "      <td>...</td>\n",
       "      <td>...</td>\n",
       "    </tr>\n",
       "    <tr>\n",
       "      <th>325</th>\n",
       "      <td>30</td>\n",
       "      <td>10</td>\n",
       "      <td>Cash Management</td>\n",
       "      <td>Citizens Access Cash Management Account</td>\n",
       "      <td>2024-02-01</td>\n",
       "      <td>4.096686</td>\n",
       "    </tr>\n",
       "    <tr>\n",
       "      <th>326</th>\n",
       "      <td>30</td>\n",
       "      <td>10</td>\n",
       "      <td>Cash Management</td>\n",
       "      <td>Citizens Access Cash Management Account</td>\n",
       "      <td>2024-03-01</td>\n",
       "      <td>3.937081</td>\n",
       "    </tr>\n",
       "    <tr>\n",
       "      <th>327</th>\n",
       "      <td>30</td>\n",
       "      <td>10</td>\n",
       "      <td>Cash Management</td>\n",
       "      <td>Citizens Access Cash Management Account</td>\n",
       "      <td>2024-04-01</td>\n",
       "      <td>4.434075</td>\n",
       "    </tr>\n",
       "    <tr>\n",
       "      <th>328</th>\n",
       "      <td>30</td>\n",
       "      <td>10</td>\n",
       "      <td>Cash Management</td>\n",
       "      <td>Citizens Access Cash Management Account</td>\n",
       "      <td>2024-05-01</td>\n",
       "      <td>4.291204</td>\n",
       "    </tr>\n",
       "    <tr>\n",
       "      <th>329</th>\n",
       "      <td>30</td>\n",
       "      <td>10</td>\n",
       "      <td>Cash Management</td>\n",
       "      <td>Citizens Access Cash Management Account</td>\n",
       "      <td>2024-06-01</td>\n",
       "      <td>4.386841</td>\n",
       "    </tr>\n",
       "  </tbody>\n",
       "</table>\n",
       "<p>330 rows × 6 columns</p>\n",
       "</div>"
      ],
      "text/plain": [
       "     account_id  institution_id        account_type  \\\n",
       "0             1               1  High-Yield Savings   \n",
       "1             1               1  High-Yield Savings   \n",
       "2             1               1  High-Yield Savings   \n",
       "3             1               1  High-Yield Savings   \n",
       "4             1               1  High-Yield Savings   \n",
       "..          ...             ...                 ...   \n",
       "325          30              10     Cash Management   \n",
       "326          30              10     Cash Management   \n",
       "327          30              10     Cash Management   \n",
       "328          30              10     Cash Management   \n",
       "329          30              10     Cash Management   \n",
       "\n",
       "                                   account_name        date       apy  \n",
       "0    Bank of America High-Yield Savings Account  2023-08-01  4.049362  \n",
       "1    Bank of America High-Yield Savings Account  2023-09-01  4.187136  \n",
       "2    Bank of America High-Yield Savings Account  2023-10-01  4.692399  \n",
       "3    Bank of America High-Yield Savings Account  2023-11-01  4.743447  \n",
       "4    Bank of America High-Yield Savings Account  2023-12-01  4.418870  \n",
       "..                                          ...         ...       ...  \n",
       "325     Citizens Access Cash Management Account  2024-02-01  4.096686  \n",
       "326     Citizens Access Cash Management Account  2024-03-01  3.937081  \n",
       "327     Citizens Access Cash Management Account  2024-04-01  4.434075  \n",
       "328     Citizens Access Cash Management Account  2024-05-01  4.291204  \n",
       "329     Citizens Access Cash Management Account  2024-06-01  4.386841  \n",
       "\n",
       "[330 rows x 6 columns]"
      ]
     },
     "execution_count": 2,
     "metadata": {},
     "output_type": "execute_result"
    }
   ],
   "source": [
    "df"
   ]
  },
  {
   "cell_type": "code",
   "execution_count": 3,
   "metadata": {},
   "outputs": [
    {
     "data": {
      "text/html": [
       "<div>\n",
       "<style scoped>\n",
       "    .dataframe tbody tr th:only-of-type {\n",
       "        vertical-align: middle;\n",
       "    }\n",
       "\n",
       "    .dataframe tbody tr th {\n",
       "        vertical-align: top;\n",
       "    }\n",
       "\n",
       "    .dataframe thead th {\n",
       "        text-align: right;\n",
       "    }\n",
       "</style>\n",
       "<table border=\"1\" class=\"dataframe\">\n",
       "  <thead>\n",
       "    <tr style=\"text-align: right;\">\n",
       "      <th></th>\n",
       "      <th>account_id</th>\n",
       "      <th>institution_id</th>\n",
       "      <th>apy</th>\n",
       "    </tr>\n",
       "  </thead>\n",
       "  <tbody>\n",
       "    <tr>\n",
       "      <th>count</th>\n",
       "      <td>330.000000</td>\n",
       "      <td>330.000000</td>\n",
       "      <td>330.000000</td>\n",
       "    </tr>\n",
       "    <tr>\n",
       "      <th>mean</th>\n",
       "      <td>15.500000</td>\n",
       "      <td>5.500000</td>\n",
       "      <td>4.380346</td>\n",
       "    </tr>\n",
       "    <tr>\n",
       "      <th>std</th>\n",
       "      <td>8.668586</td>\n",
       "      <td>2.876643</td>\n",
       "      <td>0.315012</td>\n",
       "    </tr>\n",
       "    <tr>\n",
       "      <th>min</th>\n",
       "      <td>1.000000</td>\n",
       "      <td>1.000000</td>\n",
       "      <td>3.651341</td>\n",
       "    </tr>\n",
       "    <tr>\n",
       "      <th>25%</th>\n",
       "      <td>8.000000</td>\n",
       "      <td>3.000000</td>\n",
       "      <td>4.135224</td>\n",
       "    </tr>\n",
       "    <tr>\n",
       "      <th>50%</th>\n",
       "      <td>15.500000</td>\n",
       "      <td>5.500000</td>\n",
       "      <td>4.376357</td>\n",
       "    </tr>\n",
       "    <tr>\n",
       "      <th>75%</th>\n",
       "      <td>23.000000</td>\n",
       "      <td>8.000000</td>\n",
       "      <td>4.631147</td>\n",
       "    </tr>\n",
       "    <tr>\n",
       "      <th>max</th>\n",
       "      <td>30.000000</td>\n",
       "      <td>10.000000</td>\n",
       "      <td>5.095930</td>\n",
       "    </tr>\n",
       "  </tbody>\n",
       "</table>\n",
       "</div>"
      ],
      "text/plain": [
       "       account_id  institution_id         apy\n",
       "count  330.000000      330.000000  330.000000\n",
       "mean    15.500000        5.500000    4.380346\n",
       "std      8.668586        2.876643    0.315012\n",
       "min      1.000000        1.000000    3.651341\n",
       "25%      8.000000        3.000000    4.135224\n",
       "50%     15.500000        5.500000    4.376357\n",
       "75%     23.000000        8.000000    4.631147\n",
       "max     30.000000       10.000000    5.095930"
      ]
     },
     "execution_count": 3,
     "metadata": {},
     "output_type": "execute_result"
    }
   ],
   "source": [
    "df.describe()"
   ]
  },
  {
   "cell_type": "code",
   "execution_count": 4,
   "metadata": {},
   "outputs": [
    {
     "data": {
      "text/html": [
       "<div>\n",
       "<style scoped>\n",
       "    .dataframe tbody tr th:only-of-type {\n",
       "        vertical-align: middle;\n",
       "    }\n",
       "\n",
       "    .dataframe tbody tr th {\n",
       "        vertical-align: top;\n",
       "    }\n",
       "\n",
       "    .dataframe thead th {\n",
       "        text-align: right;\n",
       "    }\n",
       "</style>\n",
       "<table border=\"1\" class=\"dataframe\">\n",
       "  <thead>\n",
       "    <tr style=\"text-align: right;\">\n",
       "      <th></th>\n",
       "      <th>count</th>\n",
       "      <th>mean</th>\n",
       "      <th>std</th>\n",
       "      <th>min</th>\n",
       "      <th>25%</th>\n",
       "      <th>50%</th>\n",
       "      <th>75%</th>\n",
       "      <th>max</th>\n",
       "    </tr>\n",
       "    <tr>\n",
       "      <th>account_name</th>\n",
       "      <th></th>\n",
       "      <th></th>\n",
       "      <th></th>\n",
       "      <th></th>\n",
       "      <th></th>\n",
       "      <th></th>\n",
       "      <th></th>\n",
       "      <th></th>\n",
       "    </tr>\n",
       "  </thead>\n",
       "  <tbody>\n",
       "    <tr>\n",
       "      <th>Ally Bank Cash Management Account</th>\n",
       "      <td>11.0</td>\n",
       "      <td>4.369899</td>\n",
       "      <td>0.358891</td>\n",
       "      <td>3.698172</td>\n",
       "      <td>4.255915</td>\n",
       "      <td>4.432010</td>\n",
       "      <td>4.533355</td>\n",
       "      <td>4.975769</td>\n",
       "    </tr>\n",
       "    <tr>\n",
       "      <th>Ally Bank High-Yield Savings Account</th>\n",
       "      <td>11.0</td>\n",
       "      <td>4.370622</td>\n",
       "      <td>0.222135</td>\n",
       "      <td>4.155495</td>\n",
       "      <td>4.182798</td>\n",
       "      <td>4.267879</td>\n",
       "      <td>4.583416</td>\n",
       "      <td>4.698387</td>\n",
       "    </tr>\n",
       "    <tr>\n",
       "      <th>Ally Bank Money Market Account</th>\n",
       "      <td>11.0</td>\n",
       "      <td>4.258893</td>\n",
       "      <td>0.235821</td>\n",
       "      <td>3.924706</td>\n",
       "      <td>4.054333</td>\n",
       "      <td>4.233800</td>\n",
       "      <td>4.444176</td>\n",
       "      <td>4.607405</td>\n",
       "    </tr>\n",
       "    <tr>\n",
       "      <th>American Express National Bank Cash Management Account</th>\n",
       "      <td>11.0</td>\n",
       "      <td>4.384659</td>\n",
       "      <td>0.311855</td>\n",
       "      <td>3.978985</td>\n",
       "      <td>4.103710</td>\n",
       "      <td>4.426199</td>\n",
       "      <td>4.616236</td>\n",
       "      <td>4.830137</td>\n",
       "    </tr>\n",
       "    <tr>\n",
       "      <th>American Express National Bank High-Yield Savings Account</th>\n",
       "      <td>11.0</td>\n",
       "      <td>4.590450</td>\n",
       "      <td>0.323674</td>\n",
       "      <td>3.940029</td>\n",
       "      <td>4.393111</td>\n",
       "      <td>4.632696</td>\n",
       "      <td>4.827230</td>\n",
       "      <td>5.047831</td>\n",
       "    </tr>\n",
       "    <tr>\n",
       "      <th>American Express National Bank Money Market Account</th>\n",
       "      <td>11.0</td>\n",
       "      <td>4.292754</td>\n",
       "      <td>0.239144</td>\n",
       "      <td>3.860741</td>\n",
       "      <td>4.200791</td>\n",
       "      <td>4.332814</td>\n",
       "      <td>4.441966</td>\n",
       "      <td>4.620489</td>\n",
       "    </tr>\n",
       "    <tr>\n",
       "      <th>Bank of America Cash Management Account</th>\n",
       "      <td>11.0</td>\n",
       "      <td>4.159110</td>\n",
       "      <td>0.238283</td>\n",
       "      <td>3.895748</td>\n",
       "      <td>3.963147</td>\n",
       "      <td>4.091434</td>\n",
       "      <td>4.289386</td>\n",
       "      <td>4.577919</td>\n",
       "    </tr>\n",
       "    <tr>\n",
       "      <th>Bank of America High-Yield Savings Account</th>\n",
       "      <td>11.0</td>\n",
       "      <td>4.490161</td>\n",
       "      <td>0.296318</td>\n",
       "      <td>4.049362</td>\n",
       "      <td>4.194413</td>\n",
       "      <td>4.539134</td>\n",
       "      <td>4.746610</td>\n",
       "      <td>4.856962</td>\n",
       "    </tr>\n",
       "    <tr>\n",
       "      <th>Bank of America Money Market Account</th>\n",
       "      <td>11.0</td>\n",
       "      <td>4.589767</td>\n",
       "      <td>0.264690</td>\n",
       "      <td>4.304203</td>\n",
       "      <td>4.409986</td>\n",
       "      <td>4.451582</td>\n",
       "      <td>4.733612</td>\n",
       "      <td>5.095930</td>\n",
       "    </tr>\n",
       "    <tr>\n",
       "      <th>Barclays Bank Delaware Cash Management Account</th>\n",
       "      <td>11.0</td>\n",
       "      <td>4.113605</td>\n",
       "      <td>0.267996</td>\n",
       "      <td>3.665531</td>\n",
       "      <td>3.988416</td>\n",
       "      <td>4.022305</td>\n",
       "      <td>4.239672</td>\n",
       "      <td>4.587630</td>\n",
       "    </tr>\n",
       "    <tr>\n",
       "      <th>Barclays Bank Delaware High-Yield Savings Account</th>\n",
       "      <td>11.0</td>\n",
       "      <td>4.367787</td>\n",
       "      <td>0.376629</td>\n",
       "      <td>3.929438</td>\n",
       "      <td>4.100092</td>\n",
       "      <td>4.235102</td>\n",
       "      <td>4.763999</td>\n",
       "      <td>4.908754</td>\n",
       "    </tr>\n",
       "    <tr>\n",
       "      <th>Barclays Bank Delaware Money Market Account</th>\n",
       "      <td>11.0</td>\n",
       "      <td>4.324023</td>\n",
       "      <td>0.310805</td>\n",
       "      <td>3.880572</td>\n",
       "      <td>4.109726</td>\n",
       "      <td>4.290994</td>\n",
       "      <td>4.582812</td>\n",
       "      <td>4.752232</td>\n",
       "    </tr>\n",
       "    <tr>\n",
       "      <th>Capital One Cash Management Account</th>\n",
       "      <td>11.0</td>\n",
       "      <td>4.185190</td>\n",
       "      <td>0.268306</td>\n",
       "      <td>3.888320</td>\n",
       "      <td>3.985721</td>\n",
       "      <td>4.143475</td>\n",
       "      <td>4.344497</td>\n",
       "      <td>4.615765</td>\n",
       "    </tr>\n",
       "    <tr>\n",
       "      <th>Capital One High-Yield Savings Account</th>\n",
       "      <td>11.0</td>\n",
       "      <td>4.442622</td>\n",
       "      <td>0.229511</td>\n",
       "      <td>4.037778</td>\n",
       "      <td>4.282224</td>\n",
       "      <td>4.519584</td>\n",
       "      <td>4.567748</td>\n",
       "      <td>4.840205</td>\n",
       "    </tr>\n",
       "    <tr>\n",
       "      <th>Capital One Money Market Account</th>\n",
       "      <td>11.0</td>\n",
       "      <td>4.315432</td>\n",
       "      <td>0.376660</td>\n",
       "      <td>3.859513</td>\n",
       "      <td>3.988452</td>\n",
       "      <td>4.213105</td>\n",
       "      <td>4.665129</td>\n",
       "      <td>4.912615</td>\n",
       "    </tr>\n",
       "    <tr>\n",
       "      <th>Chase Bank Cash Management Account</th>\n",
       "      <td>11.0</td>\n",
       "      <td>4.293787</td>\n",
       "      <td>0.325915</td>\n",
       "      <td>3.651341</td>\n",
       "      <td>4.082254</td>\n",
       "      <td>4.392572</td>\n",
       "      <td>4.532802</td>\n",
       "      <td>4.697142</td>\n",
       "    </tr>\n",
       "    <tr>\n",
       "      <th>Chase Bank High-Yield Savings Account</th>\n",
       "      <td>11.0</td>\n",
       "      <td>4.417321</td>\n",
       "      <td>0.247774</td>\n",
       "      <td>3.966734</td>\n",
       "      <td>4.235592</td>\n",
       "      <td>4.453694</td>\n",
       "      <td>4.617711</td>\n",
       "      <td>4.716639</td>\n",
       "    </tr>\n",
       "    <tr>\n",
       "      <th>Chase Bank Money Market Account</th>\n",
       "      <td>11.0</td>\n",
       "      <td>4.462699</td>\n",
       "      <td>0.297890</td>\n",
       "      <td>3.999061</td>\n",
       "      <td>4.208313</td>\n",
       "      <td>4.540327</td>\n",
       "      <td>4.705041</td>\n",
       "      <td>4.808065</td>\n",
       "    </tr>\n",
       "    <tr>\n",
       "      <th>Citizens Access Cash Management Account</th>\n",
       "      <td>11.0</td>\n",
       "      <td>4.243503</td>\n",
       "      <td>0.276830</td>\n",
       "      <td>3.897502</td>\n",
       "      <td>3.988010</td>\n",
       "      <td>4.291204</td>\n",
       "      <td>4.482326</td>\n",
       "      <td>4.626375</td>\n",
       "    </tr>\n",
       "    <tr>\n",
       "      <th>Citizens Access High-Yield Savings Account</th>\n",
       "      <td>11.0</td>\n",
       "      <td>4.482959</td>\n",
       "      <td>0.315296</td>\n",
       "      <td>4.105529</td>\n",
       "      <td>4.174010</td>\n",
       "      <td>4.483106</td>\n",
       "      <td>4.761361</td>\n",
       "      <td>4.921334</td>\n",
       "    </tr>\n",
       "    <tr>\n",
       "      <th>Citizens Access Money Market Account</th>\n",
       "      <td>11.0</td>\n",
       "      <td>4.523205</td>\n",
       "      <td>0.346185</td>\n",
       "      <td>3.989774</td>\n",
       "      <td>4.275027</td>\n",
       "      <td>4.660873</td>\n",
       "      <td>4.823174</td>\n",
       "      <td>4.886018</td>\n",
       "    </tr>\n",
       "    <tr>\n",
       "      <th>Discover Bank Cash Management Account</th>\n",
       "      <td>11.0</td>\n",
       "      <td>4.324475</td>\n",
       "      <td>0.336444</td>\n",
       "      <td>3.812827</td>\n",
       "      <td>4.087809</td>\n",
       "      <td>4.349081</td>\n",
       "      <td>4.606379</td>\n",
       "      <td>4.748643</td>\n",
       "    </tr>\n",
       "    <tr>\n",
       "      <th>Discover Bank High-Yield Savings Account</th>\n",
       "      <td>11.0</td>\n",
       "      <td>4.730144</td>\n",
       "      <td>0.271979</td>\n",
       "      <td>4.246087</td>\n",
       "      <td>4.603560</td>\n",
       "      <td>4.830897</td>\n",
       "      <td>4.933037</td>\n",
       "      <td>5.024406</td>\n",
       "    </tr>\n",
       "    <tr>\n",
       "      <th>Discover Bank Money Market Account</th>\n",
       "      <td>11.0</td>\n",
       "      <td>4.603374</td>\n",
       "      <td>0.316058</td>\n",
       "      <td>3.994513</td>\n",
       "      <td>4.410468</td>\n",
       "      <td>4.648552</td>\n",
       "      <td>4.786882</td>\n",
       "      <td>5.045427</td>\n",
       "    </tr>\n",
       "    <tr>\n",
       "      <th>Goldman Sachs Bank USA Cash Management Account</th>\n",
       "      <td>11.0</td>\n",
       "      <td>4.063571</td>\n",
       "      <td>0.189259</td>\n",
       "      <td>3.825232</td>\n",
       "      <td>3.894488</td>\n",
       "      <td>4.024493</td>\n",
       "      <td>4.228204</td>\n",
       "      <td>4.317399</td>\n",
       "    </tr>\n",
       "    <tr>\n",
       "      <th>Goldman Sachs Bank USA High-Yield Savings Account</th>\n",
       "      <td>11.0</td>\n",
       "      <td>4.520558</td>\n",
       "      <td>0.233864</td>\n",
       "      <td>4.196500</td>\n",
       "      <td>4.365262</td>\n",
       "      <td>4.529069</td>\n",
       "      <td>4.652286</td>\n",
       "      <td>4.951434</td>\n",
       "    </tr>\n",
       "    <tr>\n",
       "      <th>Goldman Sachs Bank USA Money Market Account</th>\n",
       "      <td>11.0</td>\n",
       "      <td>4.383196</td>\n",
       "      <td>0.275768</td>\n",
       "      <td>3.995949</td>\n",
       "      <td>4.153771</td>\n",
       "      <td>4.445611</td>\n",
       "      <td>4.525784</td>\n",
       "      <td>4.785036</td>\n",
       "    </tr>\n",
       "    <tr>\n",
       "      <th>Wells Fargo Cash Management Account</th>\n",
       "      <td>11.0</td>\n",
       "      <td>4.289167</td>\n",
       "      <td>0.248452</td>\n",
       "      <td>3.974032</td>\n",
       "      <td>4.094501</td>\n",
       "      <td>4.232512</td>\n",
       "      <td>4.457497</td>\n",
       "      <td>4.654320</td>\n",
       "    </tr>\n",
       "    <tr>\n",
       "      <th>Wells Fargo High-Yield Savings Account</th>\n",
       "      <td>11.0</td>\n",
       "      <td>4.506819</td>\n",
       "      <td>0.264369</td>\n",
       "      <td>4.131868</td>\n",
       "      <td>4.316592</td>\n",
       "      <td>4.469944</td>\n",
       "      <td>4.739476</td>\n",
       "      <td>4.928531</td>\n",
       "    </tr>\n",
       "    <tr>\n",
       "      <th>Wells Fargo Money Market Account</th>\n",
       "      <td>11.0</td>\n",
       "      <td>4.310624</td>\n",
       "      <td>0.304343</td>\n",
       "      <td>3.972190</td>\n",
       "      <td>4.085967</td>\n",
       "      <td>4.180534</td>\n",
       "      <td>4.493478</td>\n",
       "      <td>4.797655</td>\n",
       "    </tr>\n",
       "  </tbody>\n",
       "</table>\n",
       "</div>"
      ],
      "text/plain": [
       "                                                    count      mean       std  \\\n",
       "account_name                                                                    \n",
       "Ally Bank Cash Management Account                    11.0  4.369899  0.358891   \n",
       "Ally Bank High-Yield Savings Account                 11.0  4.370622  0.222135   \n",
       "Ally Bank Money Market Account                       11.0  4.258893  0.235821   \n",
       "American Express National Bank Cash Management ...   11.0  4.384659  0.311855   \n",
       "American Express National Bank High-Yield Savin...   11.0  4.590450  0.323674   \n",
       "American Express National Bank Money Market Acc...   11.0  4.292754  0.239144   \n",
       "Bank of America Cash Management Account              11.0  4.159110  0.238283   \n",
       "Bank of America High-Yield Savings Account           11.0  4.490161  0.296318   \n",
       "Bank of America Money Market Account                 11.0  4.589767  0.264690   \n",
       "Barclays Bank Delaware Cash Management Account       11.0  4.113605  0.267996   \n",
       "Barclays Bank Delaware High-Yield Savings Account    11.0  4.367787  0.376629   \n",
       "Barclays Bank Delaware Money Market Account          11.0  4.324023  0.310805   \n",
       "Capital One Cash Management Account                  11.0  4.185190  0.268306   \n",
       "Capital One High-Yield Savings Account               11.0  4.442622  0.229511   \n",
       "Capital One Money Market Account                     11.0  4.315432  0.376660   \n",
       "Chase Bank Cash Management Account                   11.0  4.293787  0.325915   \n",
       "Chase Bank High-Yield Savings Account                11.0  4.417321  0.247774   \n",
       "Chase Bank Money Market Account                      11.0  4.462699  0.297890   \n",
       "Citizens Access Cash Management Account              11.0  4.243503  0.276830   \n",
       "Citizens Access High-Yield Savings Account           11.0  4.482959  0.315296   \n",
       "Citizens Access Money Market Account                 11.0  4.523205  0.346185   \n",
       "Discover Bank Cash Management Account                11.0  4.324475  0.336444   \n",
       "Discover Bank High-Yield Savings Account             11.0  4.730144  0.271979   \n",
       "Discover Bank Money Market Account                   11.0  4.603374  0.316058   \n",
       "Goldman Sachs Bank USA Cash Management Account       11.0  4.063571  0.189259   \n",
       "Goldman Sachs Bank USA High-Yield Savings Account    11.0  4.520558  0.233864   \n",
       "Goldman Sachs Bank USA Money Market Account          11.0  4.383196  0.275768   \n",
       "Wells Fargo Cash Management Account                  11.0  4.289167  0.248452   \n",
       "Wells Fargo High-Yield Savings Account               11.0  4.506819  0.264369   \n",
       "Wells Fargo Money Market Account                     11.0  4.310624  0.304343   \n",
       "\n",
       "                                                         min       25%  \\\n",
       "account_name                                                             \n",
       "Ally Bank Cash Management Account                   3.698172  4.255915   \n",
       "Ally Bank High-Yield Savings Account                4.155495  4.182798   \n",
       "Ally Bank Money Market Account                      3.924706  4.054333   \n",
       "American Express National Bank Cash Management ...  3.978985  4.103710   \n",
       "American Express National Bank High-Yield Savin...  3.940029  4.393111   \n",
       "American Express National Bank Money Market Acc...  3.860741  4.200791   \n",
       "Bank of America Cash Management Account             3.895748  3.963147   \n",
       "Bank of America High-Yield Savings Account          4.049362  4.194413   \n",
       "Bank of America Money Market Account                4.304203  4.409986   \n",
       "Barclays Bank Delaware Cash Management Account      3.665531  3.988416   \n",
       "Barclays Bank Delaware High-Yield Savings Account   3.929438  4.100092   \n",
       "Barclays Bank Delaware Money Market Account         3.880572  4.109726   \n",
       "Capital One Cash Management Account                 3.888320  3.985721   \n",
       "Capital One High-Yield Savings Account              4.037778  4.282224   \n",
       "Capital One Money Market Account                    3.859513  3.988452   \n",
       "Chase Bank Cash Management Account                  3.651341  4.082254   \n",
       "Chase Bank High-Yield Savings Account               3.966734  4.235592   \n",
       "Chase Bank Money Market Account                     3.999061  4.208313   \n",
       "Citizens Access Cash Management Account             3.897502  3.988010   \n",
       "Citizens Access High-Yield Savings Account          4.105529  4.174010   \n",
       "Citizens Access Money Market Account                3.989774  4.275027   \n",
       "Discover Bank Cash Management Account               3.812827  4.087809   \n",
       "Discover Bank High-Yield Savings Account            4.246087  4.603560   \n",
       "Discover Bank Money Market Account                  3.994513  4.410468   \n",
       "Goldman Sachs Bank USA Cash Management Account      3.825232  3.894488   \n",
       "Goldman Sachs Bank USA High-Yield Savings Account   4.196500  4.365262   \n",
       "Goldman Sachs Bank USA Money Market Account         3.995949  4.153771   \n",
       "Wells Fargo Cash Management Account                 3.974032  4.094501   \n",
       "Wells Fargo High-Yield Savings Account              4.131868  4.316592   \n",
       "Wells Fargo Money Market Account                    3.972190  4.085967   \n",
       "\n",
       "                                                         50%       75%  \\\n",
       "account_name                                                             \n",
       "Ally Bank Cash Management Account                   4.432010  4.533355   \n",
       "Ally Bank High-Yield Savings Account                4.267879  4.583416   \n",
       "Ally Bank Money Market Account                      4.233800  4.444176   \n",
       "American Express National Bank Cash Management ...  4.426199  4.616236   \n",
       "American Express National Bank High-Yield Savin...  4.632696  4.827230   \n",
       "American Express National Bank Money Market Acc...  4.332814  4.441966   \n",
       "Bank of America Cash Management Account             4.091434  4.289386   \n",
       "Bank of America High-Yield Savings Account          4.539134  4.746610   \n",
       "Bank of America Money Market Account                4.451582  4.733612   \n",
       "Barclays Bank Delaware Cash Management Account      4.022305  4.239672   \n",
       "Barclays Bank Delaware High-Yield Savings Account   4.235102  4.763999   \n",
       "Barclays Bank Delaware Money Market Account         4.290994  4.582812   \n",
       "Capital One Cash Management Account                 4.143475  4.344497   \n",
       "Capital One High-Yield Savings Account              4.519584  4.567748   \n",
       "Capital One Money Market Account                    4.213105  4.665129   \n",
       "Chase Bank Cash Management Account                  4.392572  4.532802   \n",
       "Chase Bank High-Yield Savings Account               4.453694  4.617711   \n",
       "Chase Bank Money Market Account                     4.540327  4.705041   \n",
       "Citizens Access Cash Management Account             4.291204  4.482326   \n",
       "Citizens Access High-Yield Savings Account          4.483106  4.761361   \n",
       "Citizens Access Money Market Account                4.660873  4.823174   \n",
       "Discover Bank Cash Management Account               4.349081  4.606379   \n",
       "Discover Bank High-Yield Savings Account            4.830897  4.933037   \n",
       "Discover Bank Money Market Account                  4.648552  4.786882   \n",
       "Goldman Sachs Bank USA Cash Management Account      4.024493  4.228204   \n",
       "Goldman Sachs Bank USA High-Yield Savings Account   4.529069  4.652286   \n",
       "Goldman Sachs Bank USA Money Market Account         4.445611  4.525784   \n",
       "Wells Fargo Cash Management Account                 4.232512  4.457497   \n",
       "Wells Fargo High-Yield Savings Account              4.469944  4.739476   \n",
       "Wells Fargo Money Market Account                    4.180534  4.493478   \n",
       "\n",
       "                                                         max  \n",
       "account_name                                                  \n",
       "Ally Bank Cash Management Account                   4.975769  \n",
       "Ally Bank High-Yield Savings Account                4.698387  \n",
       "Ally Bank Money Market Account                      4.607405  \n",
       "American Express National Bank Cash Management ...  4.830137  \n",
       "American Express National Bank High-Yield Savin...  5.047831  \n",
       "American Express National Bank Money Market Acc...  4.620489  \n",
       "Bank of America Cash Management Account             4.577919  \n",
       "Bank of America High-Yield Savings Account          4.856962  \n",
       "Bank of America Money Market Account                5.095930  \n",
       "Barclays Bank Delaware Cash Management Account      4.587630  \n",
       "Barclays Bank Delaware High-Yield Savings Account   4.908754  \n",
       "Barclays Bank Delaware Money Market Account         4.752232  \n",
       "Capital One Cash Management Account                 4.615765  \n",
       "Capital One High-Yield Savings Account              4.840205  \n",
       "Capital One Money Market Account                    4.912615  \n",
       "Chase Bank Cash Management Account                  4.697142  \n",
       "Chase Bank High-Yield Savings Account               4.716639  \n",
       "Chase Bank Money Market Account                     4.808065  \n",
       "Citizens Access Cash Management Account             4.626375  \n",
       "Citizens Access High-Yield Savings Account          4.921334  \n",
       "Citizens Access Money Market Account                4.886018  \n",
       "Discover Bank Cash Management Account               4.748643  \n",
       "Discover Bank High-Yield Savings Account            5.024406  \n",
       "Discover Bank Money Market Account                  5.045427  \n",
       "Goldman Sachs Bank USA Cash Management Account      4.317399  \n",
       "Goldman Sachs Bank USA High-Yield Savings Account   4.951434  \n",
       "Goldman Sachs Bank USA Money Market Account         4.785036  \n",
       "Wells Fargo Cash Management Account                 4.654320  \n",
       "Wells Fargo High-Yield Savings Account              4.928531  \n",
       "Wells Fargo Money Market Account                    4.797655  "
      ]
     },
     "execution_count": 4,
     "metadata": {},
     "output_type": "execute_result"
    }
   ],
   "source": [
    "grouped_df = df.groupby('account_name')['apy']\n",
    "grouped_df.describe()"
   ]
  },
  {
   "cell_type": "markdown",
   "metadata": {},
   "source": [
    "## Trends"
   ]
  },
  {
   "cell_type": "code",
   "execution_count": 3,
   "metadata": {},
   "outputs": [
    {
     "data": {
      "application/vnd.plotly.v1+json": {
       "config": {
        "plotlyServerURL": "https://plot.ly"
       },
       "data": [
        {
         "hovertemplate": "account_name=Bank of America High-Yield Savings Account<br>date=%{x}<br>apy=%{y}<extra></extra>",
         "legendgroup": "Bank of America High-Yield Savings Account",
         "line": {
          "color": "#636efa",
          "dash": "solid"
         },
         "marker": {
          "symbol": "circle"
         },
         "mode": "lines",
         "name": "Bank of America High-Yield Savings Account",
         "orientation": "v",
         "showlegend": true,
         "type": "scatter",
         "x": [
          "2023-08-01",
          "2023-09-01",
          "2023-10-01",
          "2023-11-01",
          "2023-12-01",
          "2024-01-01",
          "2024-02-01",
          "2024-03-01",
          "2024-04-01",
          "2024-05-01",
          "2024-06-01"
         ],
         "xaxis": "x",
         "y": [
          4.049361693186748,
          4.187136437494804,
          4.69239866194655,
          4.743447399377898,
          4.418870429625196,
          4.201690524584741,
          4.787827583086403,
          4.85696219467939,
          4.16517210210814,
          4.749772176034366,
          4.539133593953767
         ],
         "yaxis": "y"
        },
        {
         "hovertemplate": "account_name=Bank of America Money Market Account<br>date=%{x}<br>apy=%{y}<extra></extra>",
         "legendgroup": "Bank of America Money Market Account",
         "line": {
          "color": "#EF553B",
          "dash": "solid"
         },
         "marker": {
          "symbol": "circle"
         },
         "mode": "lines",
         "name": "Bank of America Money Market Account",
         "orientation": "v",
         "showlegend": true,
         "type": "scatter",
         "x": [
          "2023-08-01",
          "2023-09-01",
          "2023-10-01",
          "2023-11-01",
          "2023-12-01",
          "2024-01-01",
          "2024-02-01",
          "2024-03-01",
          "2024-04-01",
          "2024-05-01",
          "2024-06-01"
         ],
         "xaxis": "x",
         "y": [
          4.400248222161491,
          4.6791146946781925,
          4.4197240784695815,
          4.312830601525487,
          4.788108963537501,
          5.09592969139186,
          4.944719798755166,
          4.433678223872312,
          4.451582101676254,
          4.6572926846364595,
          4.304202999076376
         ],
         "yaxis": "y"
        },
        {
         "hovertemplate": "account_name=Bank of America Cash Management Account<br>date=%{x}<br>apy=%{y}<extra></extra>",
         "legendgroup": "Bank of America Cash Management Account",
         "line": {
          "color": "#00cc96",
          "dash": "solid"
         },
         "marker": {
          "symbol": "circle"
         },
         "mode": "lines",
         "name": "Bank of America Cash Management Account",
         "orientation": "v",
         "showlegend": true,
         "type": "scatter",
         "x": [
          "2023-08-01",
          "2023-09-01",
          "2023-10-01",
          "2023-11-01",
          "2023-12-01",
          "2024-01-01",
          "2024-02-01",
          "2024-03-01",
          "2024-04-01",
          "2024-05-01",
          "2024-06-01"
         ],
         "xaxis": "x",
         "y": [
          4.335372235379037,
          3.9239079376240986,
          4.086369448970386,
          3.895748046262843,
          3.9567802375725587,
          4.2433989323302255,
          4.091434377413974,
          4.536110520688739,
          3.9695136411911878,
          4.133655900210585,
          4.577919387554758
         ],
         "yaxis": "y"
        },
        {
         "hovertemplate": "account_name=Chase Bank High-Yield Savings Account<br>date=%{x}<br>apy=%{y}<extra></extra>",
         "legendgroup": "Chase Bank High-Yield Savings Account",
         "line": {
          "color": "#ab63fa",
          "dash": "solid"
         },
         "marker": {
          "symbol": "circle"
         },
         "mode": "lines",
         "name": "Chase Bank High-Yield Savings Account",
         "orientation": "v",
         "showlegend": true,
         "type": "scatter",
         "visible": "legendonly",
         "x": [
          "2023-08-01",
          "2023-09-01",
          "2023-10-01",
          "2023-11-01",
          "2023-12-01",
          "2024-01-01",
          "2024-02-01",
          "2024-03-01",
          "2024-04-01",
          "2024-05-01",
          "2024-06-01"
         ],
         "xaxis": "x",
         "y": [
          4.453693891804851,
          4.292580304324957,
          4.3379296734321455,
          4.6313926847014715,
          4.524386662045469,
          4.71405483896165,
          4.604029347755942,
          4.17860292450827,
          4.170485076642094,
          4.716638517227348,
          3.9667337930521547
         ],
         "yaxis": "y"
        },
        {
         "hovertemplate": "account_name=Chase Bank Money Market Account<br>date=%{x}<br>apy=%{y}<extra></extra>",
         "legendgroup": "Chase Bank Money Market Account",
         "line": {
          "color": "#FFA15A",
          "dash": "solid"
         },
         "marker": {
          "symbol": "circle"
         },
         "mode": "lines",
         "name": "Chase Bank Money Market Account",
         "orientation": "v",
         "showlegend": true,
         "type": "scatter",
         "visible": "legendonly",
         "x": [
          "2023-08-01",
          "2023-09-01",
          "2023-10-01",
          "2023-11-01",
          "2023-12-01",
          "2024-01-01",
          "2024-02-01",
          "2024-03-01",
          "2024-04-01",
          "2024-05-01",
          "2024-06-01"
         ],
         "xaxis": "x",
         "y": [
          4.746809421192248,
          3.999060701194209,
          4.540327484364912,
          4.808065184746955,
          4.4963432562576315,
          4.663271880586519,
          4.564917489219226,
          4.256125787064543,
          4.16050022608732,
          4.054261651800495,
          4.800002190084619
         ],
         "yaxis": "y"
        },
        {
         "hovertemplate": "account_name=Chase Bank Cash Management Account<br>date=%{x}<br>apy=%{y}<extra></extra>",
         "legendgroup": "Chase Bank Cash Management Account",
         "line": {
          "color": "#19d3f3",
          "dash": "solid"
         },
         "marker": {
          "symbol": "circle"
         },
         "mode": "lines",
         "name": "Chase Bank Cash Management Account",
         "orientation": "v",
         "showlegend": true,
         "type": "scatter",
         "visible": "legendonly",
         "x": [
          "2023-08-01",
          "2023-09-01",
          "2023-10-01",
          "2023-11-01",
          "2023-12-01",
          "2024-01-01",
          "2024-02-01",
          "2024-03-01",
          "2024-04-01",
          "2024-05-01",
          "2024-06-01"
         ],
         "xaxis": "x",
         "y": [
          4.418409784263342,
          4.450059823686594,
          4.392571830108122,
          4.054012867963055,
          4.697142154642943,
          3.6513412135255194,
          4.615543236114972,
          4.681505152696856,
          4.1065570370942766,
          4.106493444891007,
          4.058015037636485
         ],
         "yaxis": "y"
        },
        {
         "hovertemplate": "account_name=Wells Fargo High-Yield Savings Account<br>date=%{x}<br>apy=%{y}<extra></extra>",
         "legendgroup": "Wells Fargo High-Yield Savings Account",
         "line": {
          "color": "#FF6692",
          "dash": "solid"
         },
         "marker": {
          "symbol": "circle"
         },
         "mode": "lines",
         "name": "Wells Fargo High-Yield Savings Account",
         "orientation": "v",
         "showlegend": true,
         "type": "scatter",
         "visible": "legendonly",
         "x": [
          "2023-08-01",
          "2023-09-01",
          "2023-10-01",
          "2023-11-01",
          "2023-12-01",
          "2024-01-01",
          "2024-02-01",
          "2024-03-01",
          "2024-04-01",
          "2024-05-01",
          "2024-06-01"
         ],
         "xaxis": "x",
         "y": [
          4.131868263450085,
          4.5686896905395615,
          4.192742517948915,
          4.39243821384123,
          4.259955613141005,
          4.928531038954422,
          4.77568122684518,
          4.373227911293026,
          4.778658021964371,
          4.469944027047286,
          4.703270434400207
         ],
         "yaxis": "y"
        },
        {
         "hovertemplate": "account_name=Wells Fargo Money Market Account<br>date=%{x}<br>apy=%{y}<extra></extra>",
         "legendgroup": "Wells Fargo Money Market Account",
         "line": {
          "color": "#B6E880",
          "dash": "solid"
         },
         "marker": {
          "symbol": "circle"
         },
         "mode": "lines",
         "name": "Wells Fargo Money Market Account",
         "orientation": "v",
         "showlegend": true,
         "type": "scatter",
         "visible": "legendonly",
         "x": [
          "2023-08-01",
          "2023-09-01",
          "2023-10-01",
          "2023-11-01",
          "2023-12-01",
          "2024-01-01",
          "2024-02-01",
          "2024-03-01",
          "2024-04-01",
          "2024-05-01",
          "2024-06-01"
         ],
         "xaxis": "x",
         "y": [
          4.348950179774922,
          4.797654663577414,
          4.178421033877243,
          4.180534274408784,
          4.1771033737503025,
          3.992876352189046,
          4.379471273163098,
          3.9948311138231003,
          4.607485585710507,
          3.972190257312178,
          4.787341226425545
         ],
         "yaxis": "y"
        },
        {
         "hovertemplate": "account_name=Wells Fargo Cash Management Account<br>date=%{x}<br>apy=%{y}<extra></extra>",
         "legendgroup": "Wells Fargo Cash Management Account",
         "line": {
          "color": "#FF97FF",
          "dash": "solid"
         },
         "marker": {
          "symbol": "circle"
         },
         "mode": "lines",
         "name": "Wells Fargo Cash Management Account",
         "orientation": "v",
         "showlegend": true,
         "type": "scatter",
         "visible": "legendonly",
         "x": [
          "2023-08-01",
          "2023-09-01",
          "2023-10-01",
          "2023-11-01",
          "2023-12-01",
          "2024-01-01",
          "2024-02-01",
          "2024-03-01",
          "2024-04-01",
          "2024-05-01",
          "2024-06-01"
         ],
         "xaxis": "x",
         "y": [
          4.654240008707974,
          3.9740315910379373,
          4.355921086916055,
          4.5590723419558525,
          4.071363864330289,
          3.998669185319798,
          4.654320062258462,
          4.350374406216814,
          4.117638011330136,
          4.232511771126485,
          4.2126943376118176
         ],
         "yaxis": "y"
        },
        {
         "hovertemplate": "account_name=Ally Bank High-Yield Savings Account<br>date=%{x}<br>apy=%{y}<extra></extra>",
         "legendgroup": "Ally Bank High-Yield Savings Account",
         "line": {
          "color": "#FECB52",
          "dash": "solid"
         },
         "marker": {
          "symbol": "circle"
         },
         "mode": "lines",
         "name": "Ally Bank High-Yield Savings Account",
         "orientation": "v",
         "showlegend": true,
         "type": "scatter",
         "visible": "legendonly",
         "x": [
          "2023-08-01",
          "2023-09-01",
          "2023-10-01",
          "2023-11-01",
          "2023-12-01",
          "2024-01-01",
          "2024-02-01",
          "2024-03-01",
          "2024-04-01",
          "2024-05-01",
          "2024-06-01"
         ],
         "xaxis": "x",
         "y": [
          4.155494872769614,
          4.657360958980594,
          4.66790085107916,
          4.382259440348199,
          4.202684004105088,
          4.69838703548522,
          4.2678794925658226,
          4.509471013861616,
          4.189069009452602,
          4.176527058539225,
          4.169806264139886
         ],
         "yaxis": "y"
        },
        {
         "hovertemplate": "account_name=Ally Bank Money Market Account<br>date=%{x}<br>apy=%{y}<extra></extra>",
         "legendgroup": "Ally Bank Money Market Account",
         "line": {
          "color": "#636efa",
          "dash": "solid"
         },
         "marker": {
          "symbol": "circle"
         },
         "mode": "lines",
         "name": "Ally Bank Money Market Account",
         "orientation": "v",
         "showlegend": true,
         "type": "scatter",
         "visible": "legendonly",
         "x": [
          "2023-08-01",
          "2023-09-01",
          "2023-10-01",
          "2023-11-01",
          "2023-12-01",
          "2024-01-01",
          "2024-02-01",
          "2024-03-01",
          "2024-04-01",
          "2024-05-01",
          "2024-06-01"
         ],
         "xaxis": "x",
         "y": [
          4.098714519788438,
          4.473436112628953,
          4.233799979593213,
          3.9247060684198276,
          4.535540467866023,
          4.367248256826638,
          4.607404592416624,
          4.190380186794452,
          3.991729920948131,
          4.414915820663328,
          4.009951368324865
         ],
         "yaxis": "y"
        },
        {
         "hovertemplate": "account_name=Ally Bank Cash Management Account<br>date=%{x}<br>apy=%{y}<extra></extra>",
         "legendgroup": "Ally Bank Cash Management Account",
         "line": {
          "color": "#EF553B",
          "dash": "solid"
         },
         "marker": {
          "symbol": "circle"
         },
         "mode": "lines",
         "name": "Ally Bank Cash Management Account",
         "orientation": "v",
         "showlegend": true,
         "type": "scatter",
         "visible": "legendonly",
         "x": [
          "2023-08-01",
          "2023-09-01",
          "2023-10-01",
          "2023-11-01",
          "2023-12-01",
          "2024-01-01",
          "2024-02-01",
          "2024-03-01",
          "2024-04-01",
          "2024-05-01",
          "2024-06-01"
         ],
         "xaxis": "x",
         "y": [
          4.975768500209024,
          4.4320098215020645,
          4.469399184744933,
          4.193595855806392,
          4.318233410517506,
          4.686494092046699,
          3.698171588726109,
          4.576363325044473,
          3.8552693030112115,
          4.490345935374664,
          4.373241849193306
         ],
         "yaxis": "y"
        },
        {
         "hovertemplate": "account_name=Goldman Sachs Bank USA High-Yield Savings Account<br>date=%{x}<br>apy=%{y}<extra></extra>",
         "legendgroup": "Goldman Sachs Bank USA High-Yield Savings Account",
         "line": {
          "color": "#00cc96",
          "dash": "solid"
         },
         "marker": {
          "symbol": "circle"
         },
         "mode": "lines",
         "name": "Goldman Sachs Bank USA High-Yield Savings Account",
         "orientation": "v",
         "showlegend": true,
         "type": "scatter",
         "visible": "legendonly",
         "x": [
          "2023-08-01",
          "2023-09-01",
          "2023-10-01",
          "2023-11-01",
          "2023-12-01",
          "2024-01-01",
          "2024-02-01",
          "2024-03-01",
          "2024-04-01",
          "2024-05-01",
          "2024-06-01"
         ],
         "xaxis": "x",
         "y": [
          4.320352333364099,
          4.2252842242115385,
          4.598162451696616,
          4.951433624480745,
          4.706409609729517,
          4.4101712790652075,
          4.7749112622718775,
          4.529069012567694,
          4.581424888636531,
          4.43242420715434,
          4.1965004746385715
         ],
         "yaxis": "y"
        },
        {
         "hovertemplate": "account_name=Goldman Sachs Bank USA Money Market Account<br>date=%{x}<br>apy=%{y}<extra></extra>",
         "legendgroup": "Goldman Sachs Bank USA Money Market Account",
         "line": {
          "color": "#ab63fa",
          "dash": "solid"
         },
         "marker": {
          "symbol": "circle"
         },
         "mode": "lines",
         "name": "Goldman Sachs Bank USA Money Market Account",
         "orientation": "v",
         "showlegend": true,
         "type": "scatter",
         "visible": "legendonly",
         "x": [
          "2023-08-01",
          "2023-09-01",
          "2023-10-01",
          "2023-11-01",
          "2023-12-01",
          "2024-01-01",
          "2024-02-01",
          "2024-03-01",
          "2024-04-01",
          "2024-05-01",
          "2024-06-01"
         ],
         "xaxis": "x",
         "y": [
          3.995949241839154,
          4.508839865302299,
          4.2810632819183905,
          4.542728090758528,
          4.7319324272794665,
          4.445610503406433,
          4.012628493904391,
          4.454145368292616,
          4.430742594781712,
          4.7850364066518285,
          4.026477795901625
         ],
         "yaxis": "y"
        },
        {
         "hovertemplate": "account_name=Goldman Sachs Bank USA Cash Management Account<br>date=%{x}<br>apy=%{y}<extra></extra>",
         "legendgroup": "Goldman Sachs Bank USA Cash Management Account",
         "line": {
          "color": "#FFA15A",
          "dash": "solid"
         },
         "marker": {
          "symbol": "circle"
         },
         "mode": "lines",
         "name": "Goldman Sachs Bank USA Cash Management Account",
         "orientation": "v",
         "showlegend": true,
         "type": "scatter",
         "visible": "legendonly",
         "x": [
          "2023-08-01",
          "2023-09-01",
          "2023-10-01",
          "2023-11-01",
          "2023-12-01",
          "2024-01-01",
          "2024-02-01",
          "2024-03-01",
          "2024-04-01",
          "2024-05-01",
          "2024-06-01"
         ],
         "xaxis": "x",
         "y": [
          4.024492551246363,
          4.1484553939364215,
          3.8252315233346,
          3.8692475981583034,
          4.313505765493242,
          4.317398991821289,
          4.1879762718603,
          3.957988025505423,
          3.9197276480955683,
          3.8668243054127935,
          4.268431521238061
         ],
         "yaxis": "y"
        },
        {
         "hovertemplate": "account_name=American Express National Bank High-Yield Savings Account<br>date=%{x}<br>apy=%{y}<extra></extra>",
         "legendgroup": "American Express National Bank High-Yield Savings Account",
         "line": {
          "color": "#19d3f3",
          "dash": "solid"
         },
         "marker": {
          "symbol": "circle"
         },
         "mode": "lines",
         "name": "American Express National Bank High-Yield Savings Account",
         "orientation": "v",
         "showlegend": true,
         "type": "scatter",
         "visible": "legendonly",
         "x": [
          "2023-08-01",
          "2023-09-01",
          "2023-10-01",
          "2023-11-01",
          "2023-12-01",
          "2024-01-01",
          "2024-02-01",
          "2024-03-01",
          "2024-04-01",
          "2024-05-01",
          "2024-06-01"
         ],
         "xaxis": "x",
         "y": [
          5.047831295632901,
          4.924892149233942,
          3.9400294026647886,
          4.814514359248045,
          4.581955755163765,
          4.2690568897633,
          4.839945175192103,
          4.351117221184753,
          4.632695528895011,
          4.435104381986369,
          4.6578063958241795
         ],
         "yaxis": "y"
        },
        {
         "hovertemplate": "account_name=American Express National Bank Money Market Account<br>date=%{x}<br>apy=%{y}<extra></extra>",
         "legendgroup": "American Express National Bank Money Market Account",
         "line": {
          "color": "#FF6692",
          "dash": "solid"
         },
         "marker": {
          "symbol": "circle"
         },
         "mode": "lines",
         "name": "American Express National Bank Money Market Account",
         "orientation": "v",
         "showlegend": true,
         "type": "scatter",
         "visible": "legendonly",
         "x": [
          "2023-08-01",
          "2023-09-01",
          "2023-10-01",
          "2023-11-01",
          "2023-12-01",
          "2024-01-01",
          "2024-02-01",
          "2024-03-01",
          "2024-04-01",
          "2024-05-01",
          "2024-06-01"
         ],
         "xaxis": "x",
         "y": [
          4.114321497224696,
          4.620488849110463,
          4.455782596642822,
          4.428149578949339,
          3.924982839187894,
          4.348028821673634,
          4.332814120663924,
          4.2872614134769345,
          4.5395791897162345,
          4.308140713815266,
          3.8607408147410465
         ],
         "yaxis": "y"
        },
        {
         "hovertemplate": "account_name=American Express National Bank Cash Management Account<br>date=%{x}<br>apy=%{y}<extra></extra>",
         "legendgroup": "American Express National Bank Cash Management Account",
         "line": {
          "color": "#B6E880",
          "dash": "solid"
         },
         "marker": {
          "symbol": "circle"
         },
         "mode": "lines",
         "name": "American Express National Bank Cash Management Account",
         "orientation": "v",
         "showlegend": true,
         "type": "scatter",
         "visible": "legendonly",
         "x": [
          "2023-08-01",
          "2023-09-01",
          "2023-10-01",
          "2023-11-01",
          "2023-12-01",
          "2024-01-01",
          "2024-02-01",
          "2024-03-01",
          "2024-04-01",
          "2024-05-01",
          "2024-06-01"
         ],
         "xaxis": "x",
         "y": [
          4.272085949927223,
          4.550946127728641,
          4.776453338337918,
          4.681525478791933,
          4.1187715905476185,
          4.830136862045476,
          4.5118569097531465,
          4.088647629047782,
          3.9956459630331445,
          3.9789847788094965,
          4.426199257363711
         ],
         "yaxis": "y"
        },
        {
         "hovertemplate": "account_name=Capital One High-Yield Savings Account<br>date=%{x}<br>apy=%{y}<extra></extra>",
         "legendgroup": "Capital One High-Yield Savings Account",
         "line": {
          "color": "#FF97FF",
          "dash": "solid"
         },
         "marker": {
          "symbol": "circle"
         },
         "mode": "lines",
         "name": "Capital One High-Yield Savings Account",
         "orientation": "v",
         "showlegend": true,
         "type": "scatter",
         "visible": "legendonly",
         "x": [
          "2023-08-01",
          "2023-09-01",
          "2023-10-01",
          "2023-11-01",
          "2023-12-01",
          "2024-01-01",
          "2024-02-01",
          "2024-03-01",
          "2024-04-01",
          "2024-05-01",
          "2024-06-01"
         ],
         "xaxis": "x",
         "y": [
          4.437051879263197,
          4.201475531875391,
          4.187284959646389,
          4.840204982035597,
          4.609313718994723,
          4.59011736973802,
          4.545378103661279,
          4.362972478931633,
          4.037777961941899,
          4.519584466986918,
          4.537677658296352
         ],
         "yaxis": "y"
        },
        {
         "hovertemplate": "account_name=Capital One Money Market Account<br>date=%{x}<br>apy=%{y}<extra></extra>",
         "legendgroup": "Capital One Money Market Account",
         "line": {
          "color": "#FECB52",
          "dash": "solid"
         },
         "marker": {
          "symbol": "circle"
         },
         "mode": "lines",
         "name": "Capital One Money Market Account",
         "orientation": "v",
         "showlegend": true,
         "type": "scatter",
         "visible": "legendonly",
         "x": [
          "2023-08-01",
          "2023-09-01",
          "2023-10-01",
          "2023-11-01",
          "2023-12-01",
          "2024-01-01",
          "2024-02-01",
          "2024-03-01",
          "2024-04-01",
          "2024-05-01",
          "2024-06-01"
         ],
         "xaxis": "x",
         "y": [
          3.928457304248214,
          3.986677787855994,
          4.213105153428444,
          3.85951298197294,
          4.912614653599089,
          4.7566887811018645,
          3.990226658350103,
          4.352286452312927,
          4.731228966921409,
          4.139928369287056,
          4.599029900895419
         ],
         "yaxis": "y"
        },
        {
         "hovertemplate": "account_name=Capital One Cash Management Account<br>date=%{x}<br>apy=%{y}<extra></extra>",
         "legendgroup": "Capital One Cash Management Account",
         "line": {
          "color": "#636efa",
          "dash": "solid"
         },
         "marker": {
          "symbol": "circle"
         },
         "mode": "lines",
         "name": "Capital One Cash Management Account",
         "orientation": "v",
         "showlegend": true,
         "type": "scatter",
         "visible": "legendonly",
         "x": [
          "2023-08-01",
          "2023-09-01",
          "2023-10-01",
          "2023-11-01",
          "2023-12-01",
          "2024-01-01",
          "2024-02-01",
          "2024-03-01",
          "2024-04-01",
          "2024-05-01",
          "2024-06-01"
         ],
         "xaxis": "x",
         "y": [
          4.145822769380789,
          4.532580050204465,
          4.0230406422878735,
          4.589533308364545,
          3.948401567150055,
          3.948033540774216,
          4.1434748749405745,
          4.615765447485276,
          4.1564130076199275,
          4.045705678908593,
          3.888319528122017
         ],
         "yaxis": "y"
        },
        {
         "hovertemplate": "account_name=Discover Bank High-Yield Savings Account<br>date=%{x}<br>apy=%{y}<extra></extra>",
         "legendgroup": "Discover Bank High-Yield Savings Account",
         "line": {
          "color": "#EF553B",
          "dash": "solid"
         },
         "marker": {
          "symbol": "circle"
         },
         "mode": "lines",
         "name": "Discover Bank High-Yield Savings Account",
         "orientation": "v",
         "showlegend": true,
         "type": "scatter",
         "visible": "legendonly",
         "x": [
          "2023-08-01",
          "2023-09-01",
          "2023-10-01",
          "2023-11-01",
          "2023-12-01",
          "2024-01-01",
          "2024-02-01",
          "2024-03-01",
          "2024-04-01",
          "2024-05-01",
          "2024-06-01"
         ],
         "xaxis": "x",
         "y": [
          5.019735733942786,
          4.652461743411855,
          4.246087416946867,
          4.30116509727527,
          4.673419339460789,
          5.024405787075153,
          4.912472150975944,
          4.554658031631536,
          4.862678098111113,
          4.953601711839678,
          4.830897452904564
         ],
         "yaxis": "y"
        },
        {
         "hovertemplate": "account_name=Discover Bank Money Market Account<br>date=%{x}<br>apy=%{y}<extra></extra>",
         "legendgroup": "Discover Bank Money Market Account",
         "line": {
          "color": "#00cc96",
          "dash": "solid"
         },
         "marker": {
          "symbol": "circle"
         },
         "mode": "lines",
         "name": "Discover Bank Money Market Account",
         "orientation": "v",
         "showlegend": true,
         "type": "scatter",
         "visible": "legendonly",
         "x": [
          "2023-08-01",
          "2023-09-01",
          "2023-10-01",
          "2023-11-01",
          "2023-12-01",
          "2024-01-01",
          "2024-02-01",
          "2024-03-01",
          "2024-04-01",
          "2024-05-01",
          "2024-06-01"
         ],
         "xaxis": "x",
         "y": [
          4.750397879725981,
          3.9945125612900654,
          4.648551842574207,
          5.045426917924468,
          4.539464904719775,
          4.461204895165581,
          4.3072416430953755,
          4.6744961846774595,
          4.359732039085847,
          4.823365982588838,
          5.032721177234345
         ],
         "yaxis": "y"
        },
        {
         "hovertemplate": "account_name=Discover Bank Cash Management Account<br>date=%{x}<br>apy=%{y}<extra></extra>",
         "legendgroup": "Discover Bank Cash Management Account",
         "line": {
          "color": "#ab63fa",
          "dash": "solid"
         },
         "marker": {
          "symbol": "circle"
         },
         "mode": "lines",
         "name": "Discover Bank Cash Management Account",
         "orientation": "v",
         "showlegend": true,
         "type": "scatter",
         "visible": "legendonly",
         "x": [
          "2023-08-01",
          "2023-09-01",
          "2023-10-01",
          "2023-11-01",
          "2023-12-01",
          "2024-01-01",
          "2024-02-01",
          "2024-03-01",
          "2024-04-01",
          "2024-05-01",
          "2024-06-01"
         ],
         "xaxis": "x",
         "y": [
          4.7486427833645815,
          4.162244848720727,
          3.8128269385173486,
          4.442769474119811,
          4.349081304383705,
          4.728779535423948,
          4.013373290073324,
          4.518421663252198,
          4.694335767631853,
          3.871456734370344,
          4.227295818539284
         ],
         "yaxis": "y"
        },
        {
         "hovertemplate": "account_name=Barclays Bank Delaware High-Yield Savings Account<br>date=%{x}<br>apy=%{y}<extra></extra>",
         "legendgroup": "Barclays Bank Delaware High-Yield Savings Account",
         "line": {
          "color": "#FFA15A",
          "dash": "solid"
         },
         "marker": {
          "symbol": "circle"
         },
         "mode": "lines",
         "name": "Barclays Bank Delaware High-Yield Savings Account",
         "orientation": "v",
         "showlegend": true,
         "type": "scatter",
         "visible": "legendonly",
         "x": [
          "2023-08-01",
          "2023-09-01",
          "2023-10-01",
          "2023-11-01",
          "2023-12-01",
          "2024-01-01",
          "2024-02-01",
          "2024-03-01",
          "2024-04-01",
          "2024-05-01",
          "2024-06-01"
         ],
         "xaxis": "x",
         "y": [
          4.26447260003381,
          4.908754193924801,
          4.080350233537411,
          4.1198338404292105,
          4.802662902143373,
          3.929438449106458,
          3.9729410497122246,
          4.2351023653232405,
          4.725335546624943,
          4.858126158616158,
          4.1486361451146205
         ],
         "yaxis": "y"
        },
        {
         "hovertemplate": "account_name=Barclays Bank Delaware Money Market Account<br>date=%{x}<br>apy=%{y}<extra></extra>",
         "legendgroup": "Barclays Bank Delaware Money Market Account",
         "line": {
          "color": "#19d3f3",
          "dash": "solid"
         },
         "marker": {
          "symbol": "circle"
         },
         "mode": "lines",
         "name": "Barclays Bank Delaware Money Market Account",
         "orientation": "v",
         "showlegend": true,
         "type": "scatter",
         "visible": "legendonly",
         "x": [
          "2023-08-01",
          "2023-09-01",
          "2023-10-01",
          "2023-11-01",
          "2023-12-01",
          "2024-01-01",
          "2024-02-01",
          "2024-03-01",
          "2024-04-01",
          "2024-05-01",
          "2024-06-01"
         ],
         "xaxis": "x",
         "y": [
          4.40383705411013,
          3.9141798406174897,
          4.060794208674713,
          4.210234896194932,
          4.7271327780118755,
          4.158657916529597,
          4.290994272615698,
          3.880571803826028,
          4.535212315076546,
          4.630410921114285,
          4.752231602111487
         ],
         "yaxis": "y"
        },
        {
         "hovertemplate": "account_name=Barclays Bank Delaware Cash Management Account<br>date=%{x}<br>apy=%{y}<extra></extra>",
         "legendgroup": "Barclays Bank Delaware Cash Management Account",
         "line": {
          "color": "#FF6692",
          "dash": "solid"
         },
         "marker": {
          "symbol": "circle"
         },
         "mode": "lines",
         "name": "Barclays Bank Delaware Cash Management Account",
         "orientation": "v",
         "showlegend": true,
         "type": "scatter",
         "visible": "legendonly",
         "x": [
          "2023-08-01",
          "2023-09-01",
          "2023-10-01",
          "2023-11-01",
          "2023-12-01",
          "2024-01-01",
          "2024-02-01",
          "2024-03-01",
          "2024-04-01",
          "2024-05-01",
          "2024-06-01"
         ],
         "xaxis": "x",
         "y": [
          3.9698110671865536,
          3.665530952478243,
          4.015140558676213,
          4.177604426384967,
          4.301738916118679,
          4.080431694866859,
          4.022305084807068,
          4.587629598113019,
          3.90870342485248,
          4.513737340412276,
          4.007020624710217
         ],
         "yaxis": "y"
        },
        {
         "hovertemplate": "account_name=Citizens Access High-Yield Savings Account<br>date=%{x}<br>apy=%{y}<extra></extra>",
         "legendgroup": "Citizens Access High-Yield Savings Account",
         "line": {
          "color": "#B6E880",
          "dash": "solid"
         },
         "marker": {
          "symbol": "circle"
         },
         "mode": "lines",
         "name": "Citizens Access High-Yield Savings Account",
         "orientation": "v",
         "showlegend": true,
         "type": "scatter",
         "visible": "legendonly",
         "x": [
          "2023-08-01",
          "2023-09-01",
          "2023-10-01",
          "2023-11-01",
          "2023-12-01",
          "2024-01-01",
          "2024-02-01",
          "2024-03-01",
          "2024-04-01",
          "2024-05-01",
          "2024-06-01"
         ],
         "xaxis": "x",
         "y": [
          4.483106201586262,
          4.581975614712308,
          4.921334471430846,
          4.165219731431106,
          4.182800007464702,
          4.3169803173855925,
          4.866030563311057,
          4.105529124286032,
          4.656691833945955,
          4.161537417077535,
          4.87134679780087
         ],
         "yaxis": "y"
        },
        {
         "hovertemplate": "account_name=Citizens Access Money Market Account<br>date=%{x}<br>apy=%{y}<extra></extra>",
         "legendgroup": "Citizens Access Money Market Account",
         "line": {
          "color": "#FF97FF",
          "dash": "solid"
         },
         "marker": {
          "symbol": "circle"
         },
         "mode": "lines",
         "name": "Citizens Access Money Market Account",
         "orientation": "v",
         "showlegend": true,
         "type": "scatter",
         "visible": "legendonly",
         "x": [
          "2023-08-01",
          "2023-09-01",
          "2023-10-01",
          "2023-11-01",
          "2023-12-01",
          "2024-01-01",
          "2024-02-01",
          "2024-03-01",
          "2024-04-01",
          "2024-05-01",
          "2024-06-01"
         ],
         "xaxis": "x",
         "y": [
          4.401545330329615,
          4.886018429537362,
          4.864473886271693,
          3.9897735914184467,
          4.791709905932835,
          4.693510895503038,
          4.467912961511117,
          4.854638373054825,
          4.660872734501399,
          3.9962912108441713,
          4.148508915642708
         ],
         "yaxis": "y"
        },
        {
         "hovertemplate": "account_name=Citizens Access Cash Management Account<br>date=%{x}<br>apy=%{y}<extra></extra>",
         "legendgroup": "Citizens Access Cash Management Account",
         "line": {
          "color": "#FECB52",
          "dash": "solid"
         },
         "marker": {
          "symbol": "circle"
         },
         "mode": "lines",
         "name": "Citizens Access Cash Management Account",
         "orientation": "v",
         "showlegend": true,
         "type": "scatter",
         "visible": "legendonly",
         "x": [
          "2023-08-01",
          "2023-09-01",
          "2023-10-01",
          "2023-11-01",
          "2023-12-01",
          "2024-01-01",
          "2024-02-01",
          "2024-03-01",
          "2024-04-01",
          "2024-05-01",
          "2024-06-01"
         ],
         "xaxis": "x",
         "y": [
          3.9033585781432696,
          3.8975024703343895,
          4.5305767961902506,
          4.0389396463631515,
          4.535897049105297,
          4.626374836452248,
          4.0966856592199665,
          3.9370806401047367,
          4.434074854547384,
          4.291204287356463,
          4.386840860992759
         ],
         "yaxis": "y"
        }
       ],
       "layout": {
        "legend": {
         "title": {
          "text": "Account Name"
         },
         "tracegroupgap": 0
        },
        "template": {
         "data": {
          "bar": [
           {
            "error_x": {
             "color": "#2a3f5f"
            },
            "error_y": {
             "color": "#2a3f5f"
            },
            "marker": {
             "line": {
              "color": "#E5ECF6",
              "width": 0.5
             },
             "pattern": {
              "fillmode": "overlay",
              "size": 10,
              "solidity": 0.2
             }
            },
            "type": "bar"
           }
          ],
          "barpolar": [
           {
            "marker": {
             "line": {
              "color": "#E5ECF6",
              "width": 0.5
             },
             "pattern": {
              "fillmode": "overlay",
              "size": 10,
              "solidity": 0.2
             }
            },
            "type": "barpolar"
           }
          ],
          "carpet": [
           {
            "aaxis": {
             "endlinecolor": "#2a3f5f",
             "gridcolor": "white",
             "linecolor": "white",
             "minorgridcolor": "white",
             "startlinecolor": "#2a3f5f"
            },
            "baxis": {
             "endlinecolor": "#2a3f5f",
             "gridcolor": "white",
             "linecolor": "white",
             "minorgridcolor": "white",
             "startlinecolor": "#2a3f5f"
            },
            "type": "carpet"
           }
          ],
          "choropleth": [
           {
            "colorbar": {
             "outlinewidth": 0,
             "ticks": ""
            },
            "type": "choropleth"
           }
          ],
          "contour": [
           {
            "colorbar": {
             "outlinewidth": 0,
             "ticks": ""
            },
            "colorscale": [
             [
              0,
              "#0d0887"
             ],
             [
              0.1111111111111111,
              "#46039f"
             ],
             [
              0.2222222222222222,
              "#7201a8"
             ],
             [
              0.3333333333333333,
              "#9c179e"
             ],
             [
              0.4444444444444444,
              "#bd3786"
             ],
             [
              0.5555555555555556,
              "#d8576b"
             ],
             [
              0.6666666666666666,
              "#ed7953"
             ],
             [
              0.7777777777777778,
              "#fb9f3a"
             ],
             [
              0.8888888888888888,
              "#fdca26"
             ],
             [
              1,
              "#f0f921"
             ]
            ],
            "type": "contour"
           }
          ],
          "contourcarpet": [
           {
            "colorbar": {
             "outlinewidth": 0,
             "ticks": ""
            },
            "type": "contourcarpet"
           }
          ],
          "heatmap": [
           {
            "colorbar": {
             "outlinewidth": 0,
             "ticks": ""
            },
            "colorscale": [
             [
              0,
              "#0d0887"
             ],
             [
              0.1111111111111111,
              "#46039f"
             ],
             [
              0.2222222222222222,
              "#7201a8"
             ],
             [
              0.3333333333333333,
              "#9c179e"
             ],
             [
              0.4444444444444444,
              "#bd3786"
             ],
             [
              0.5555555555555556,
              "#d8576b"
             ],
             [
              0.6666666666666666,
              "#ed7953"
             ],
             [
              0.7777777777777778,
              "#fb9f3a"
             ],
             [
              0.8888888888888888,
              "#fdca26"
             ],
             [
              1,
              "#f0f921"
             ]
            ],
            "type": "heatmap"
           }
          ],
          "heatmapgl": [
           {
            "colorbar": {
             "outlinewidth": 0,
             "ticks": ""
            },
            "colorscale": [
             [
              0,
              "#0d0887"
             ],
             [
              0.1111111111111111,
              "#46039f"
             ],
             [
              0.2222222222222222,
              "#7201a8"
             ],
             [
              0.3333333333333333,
              "#9c179e"
             ],
             [
              0.4444444444444444,
              "#bd3786"
             ],
             [
              0.5555555555555556,
              "#d8576b"
             ],
             [
              0.6666666666666666,
              "#ed7953"
             ],
             [
              0.7777777777777778,
              "#fb9f3a"
             ],
             [
              0.8888888888888888,
              "#fdca26"
             ],
             [
              1,
              "#f0f921"
             ]
            ],
            "type": "heatmapgl"
           }
          ],
          "histogram": [
           {
            "marker": {
             "pattern": {
              "fillmode": "overlay",
              "size": 10,
              "solidity": 0.2
             }
            },
            "type": "histogram"
           }
          ],
          "histogram2d": [
           {
            "colorbar": {
             "outlinewidth": 0,
             "ticks": ""
            },
            "colorscale": [
             [
              0,
              "#0d0887"
             ],
             [
              0.1111111111111111,
              "#46039f"
             ],
             [
              0.2222222222222222,
              "#7201a8"
             ],
             [
              0.3333333333333333,
              "#9c179e"
             ],
             [
              0.4444444444444444,
              "#bd3786"
             ],
             [
              0.5555555555555556,
              "#d8576b"
             ],
             [
              0.6666666666666666,
              "#ed7953"
             ],
             [
              0.7777777777777778,
              "#fb9f3a"
             ],
             [
              0.8888888888888888,
              "#fdca26"
             ],
             [
              1,
              "#f0f921"
             ]
            ],
            "type": "histogram2d"
           }
          ],
          "histogram2dcontour": [
           {
            "colorbar": {
             "outlinewidth": 0,
             "ticks": ""
            },
            "colorscale": [
             [
              0,
              "#0d0887"
             ],
             [
              0.1111111111111111,
              "#46039f"
             ],
             [
              0.2222222222222222,
              "#7201a8"
             ],
             [
              0.3333333333333333,
              "#9c179e"
             ],
             [
              0.4444444444444444,
              "#bd3786"
             ],
             [
              0.5555555555555556,
              "#d8576b"
             ],
             [
              0.6666666666666666,
              "#ed7953"
             ],
             [
              0.7777777777777778,
              "#fb9f3a"
             ],
             [
              0.8888888888888888,
              "#fdca26"
             ],
             [
              1,
              "#f0f921"
             ]
            ],
            "type": "histogram2dcontour"
           }
          ],
          "mesh3d": [
           {
            "colorbar": {
             "outlinewidth": 0,
             "ticks": ""
            },
            "type": "mesh3d"
           }
          ],
          "parcoords": [
           {
            "line": {
             "colorbar": {
              "outlinewidth": 0,
              "ticks": ""
             }
            },
            "type": "parcoords"
           }
          ],
          "pie": [
           {
            "automargin": true,
            "type": "pie"
           }
          ],
          "scatter": [
           {
            "fillpattern": {
             "fillmode": "overlay",
             "size": 10,
             "solidity": 0.2
            },
            "type": "scatter"
           }
          ],
          "scatter3d": [
           {
            "line": {
             "colorbar": {
              "outlinewidth": 0,
              "ticks": ""
             }
            },
            "marker": {
             "colorbar": {
              "outlinewidth": 0,
              "ticks": ""
             }
            },
            "type": "scatter3d"
           }
          ],
          "scattercarpet": [
           {
            "marker": {
             "colorbar": {
              "outlinewidth": 0,
              "ticks": ""
             }
            },
            "type": "scattercarpet"
           }
          ],
          "scattergeo": [
           {
            "marker": {
             "colorbar": {
              "outlinewidth": 0,
              "ticks": ""
             }
            },
            "type": "scattergeo"
           }
          ],
          "scattergl": [
           {
            "marker": {
             "colorbar": {
              "outlinewidth": 0,
              "ticks": ""
             }
            },
            "type": "scattergl"
           }
          ],
          "scattermapbox": [
           {
            "marker": {
             "colorbar": {
              "outlinewidth": 0,
              "ticks": ""
             }
            },
            "type": "scattermapbox"
           }
          ],
          "scatterpolar": [
           {
            "marker": {
             "colorbar": {
              "outlinewidth": 0,
              "ticks": ""
             }
            },
            "type": "scatterpolar"
           }
          ],
          "scatterpolargl": [
           {
            "marker": {
             "colorbar": {
              "outlinewidth": 0,
              "ticks": ""
             }
            },
            "type": "scatterpolargl"
           }
          ],
          "scatterternary": [
           {
            "marker": {
             "colorbar": {
              "outlinewidth": 0,
              "ticks": ""
             }
            },
            "type": "scatterternary"
           }
          ],
          "surface": [
           {
            "colorbar": {
             "outlinewidth": 0,
             "ticks": ""
            },
            "colorscale": [
             [
              0,
              "#0d0887"
             ],
             [
              0.1111111111111111,
              "#46039f"
             ],
             [
              0.2222222222222222,
              "#7201a8"
             ],
             [
              0.3333333333333333,
              "#9c179e"
             ],
             [
              0.4444444444444444,
              "#bd3786"
             ],
             [
              0.5555555555555556,
              "#d8576b"
             ],
             [
              0.6666666666666666,
              "#ed7953"
             ],
             [
              0.7777777777777778,
              "#fb9f3a"
             ],
             [
              0.8888888888888888,
              "#fdca26"
             ],
             [
              1,
              "#f0f921"
             ]
            ],
            "type": "surface"
           }
          ],
          "table": [
           {
            "cells": {
             "fill": {
              "color": "#EBF0F8"
             },
             "line": {
              "color": "white"
             }
            },
            "header": {
             "fill": {
              "color": "#C8D4E3"
             },
             "line": {
              "color": "white"
             }
            },
            "type": "table"
           }
          ]
         },
         "layout": {
          "annotationdefaults": {
           "arrowcolor": "#2a3f5f",
           "arrowhead": 0,
           "arrowwidth": 1
          },
          "autotypenumbers": "strict",
          "coloraxis": {
           "colorbar": {
            "outlinewidth": 0,
            "ticks": ""
           }
          },
          "colorscale": {
           "diverging": [
            [
             0,
             "#8e0152"
            ],
            [
             0.1,
             "#c51b7d"
            ],
            [
             0.2,
             "#de77ae"
            ],
            [
             0.3,
             "#f1b6da"
            ],
            [
             0.4,
             "#fde0ef"
            ],
            [
             0.5,
             "#f7f7f7"
            ],
            [
             0.6,
             "#e6f5d0"
            ],
            [
             0.7,
             "#b8e186"
            ],
            [
             0.8,
             "#7fbc41"
            ],
            [
             0.9,
             "#4d9221"
            ],
            [
             1,
             "#276419"
            ]
           ],
           "sequential": [
            [
             0,
             "#0d0887"
            ],
            [
             0.1111111111111111,
             "#46039f"
            ],
            [
             0.2222222222222222,
             "#7201a8"
            ],
            [
             0.3333333333333333,
             "#9c179e"
            ],
            [
             0.4444444444444444,
             "#bd3786"
            ],
            [
             0.5555555555555556,
             "#d8576b"
            ],
            [
             0.6666666666666666,
             "#ed7953"
            ],
            [
             0.7777777777777778,
             "#fb9f3a"
            ],
            [
             0.8888888888888888,
             "#fdca26"
            ],
            [
             1,
             "#f0f921"
            ]
           ],
           "sequentialminus": [
            [
             0,
             "#0d0887"
            ],
            [
             0.1111111111111111,
             "#46039f"
            ],
            [
             0.2222222222222222,
             "#7201a8"
            ],
            [
             0.3333333333333333,
             "#9c179e"
            ],
            [
             0.4444444444444444,
             "#bd3786"
            ],
            [
             0.5555555555555556,
             "#d8576b"
            ],
            [
             0.6666666666666666,
             "#ed7953"
            ],
            [
             0.7777777777777778,
             "#fb9f3a"
            ],
            [
             0.8888888888888888,
             "#fdca26"
            ],
            [
             1,
             "#f0f921"
            ]
           ]
          },
          "colorway": [
           "#636efa",
           "#EF553B",
           "#00cc96",
           "#ab63fa",
           "#FFA15A",
           "#19d3f3",
           "#FF6692",
           "#B6E880",
           "#FF97FF",
           "#FECB52"
          ],
          "font": {
           "color": "#2a3f5f"
          },
          "geo": {
           "bgcolor": "white",
           "lakecolor": "white",
           "landcolor": "#E5ECF6",
           "showlakes": true,
           "showland": true,
           "subunitcolor": "white"
          },
          "hoverlabel": {
           "align": "left"
          },
          "hovermode": "closest",
          "mapbox": {
           "style": "light"
          },
          "paper_bgcolor": "white",
          "plot_bgcolor": "#E5ECF6",
          "polar": {
           "angularaxis": {
            "gridcolor": "white",
            "linecolor": "white",
            "ticks": ""
           },
           "bgcolor": "#E5ECF6",
           "radialaxis": {
            "gridcolor": "white",
            "linecolor": "white",
            "ticks": ""
           }
          },
          "scene": {
           "xaxis": {
            "backgroundcolor": "#E5ECF6",
            "gridcolor": "white",
            "gridwidth": 2,
            "linecolor": "white",
            "showbackground": true,
            "ticks": "",
            "zerolinecolor": "white"
           },
           "yaxis": {
            "backgroundcolor": "#E5ECF6",
            "gridcolor": "white",
            "gridwidth": 2,
            "linecolor": "white",
            "showbackground": true,
            "ticks": "",
            "zerolinecolor": "white"
           },
           "zaxis": {
            "backgroundcolor": "#E5ECF6",
            "gridcolor": "white",
            "gridwidth": 2,
            "linecolor": "white",
            "showbackground": true,
            "ticks": "",
            "zerolinecolor": "white"
           }
          },
          "shapedefaults": {
           "line": {
            "color": "#2a3f5f"
           }
          },
          "ternary": {
           "aaxis": {
            "gridcolor": "white",
            "linecolor": "white",
            "ticks": ""
           },
           "baxis": {
            "gridcolor": "white",
            "linecolor": "white",
            "ticks": ""
           },
           "bgcolor": "#E5ECF6",
           "caxis": {
            "gridcolor": "white",
            "linecolor": "white",
            "ticks": ""
           }
          },
          "title": {
           "x": 0.05
          },
          "xaxis": {
           "automargin": true,
           "gridcolor": "white",
           "linecolor": "white",
           "ticks": "",
           "title": {
            "standoff": 15
           },
           "zerolinecolor": "white",
           "zerolinewidth": 2
          },
          "yaxis": {
           "automargin": true,
           "gridcolor": "white",
           "linecolor": "white",
           "ticks": "",
           "title": {
            "standoff": 15
           },
           "zerolinecolor": "white",
           "zerolinewidth": 2
          }
         }
        },
        "title": {
         "text": "APY Trends by Account for Savings Accounts"
        },
        "xaxis": {
         "anchor": "y",
         "domain": [
          0,
          1
         ],
         "title": {}
        },
        "yaxis": {
         "anchor": "x",
         "domain": [
          0,
          1
         ],
         "title": {
          "text": "APY"
         }
        }
       }
      }
     },
     "metadata": {},
     "output_type": "display_data"
    }
   ],
   "source": [
    "fig = px.line(df, x='date', y='apy', color='account_name', title='APY Trends by Account for Savings Accounts')\n",
    "\n",
    "for i, trace in enumerate(fig.data):\n",
    "    if i >= 3:\n",
    "        trace.visible = 'legendonly'\n",
    "\n",
    "fig.update_layout(xaxis_title=None, yaxis_title='APY', legend_title_text='Account Name')\n",
    "fig.show()\n"
   ]
  },
  {
   "cell_type": "code",
   "execution_count": 3,
   "metadata": {},
   "outputs": [
    {
     "data": {
      "application/vnd.plotly.v1+json": {
       "config": {
        "plotlyServerURL": "https://plot.ly"
       },
       "data": [
        {
         "hovertemplate": "date=%{x}<br>apy=%{y}<extra></extra>",
         "legendgroup": "",
         "line": {
          "color": "#636efa",
          "dash": "solid"
         },
         "marker": {
          "symbol": "circle"
         },
         "mode": "lines",
         "name": "",
         "orientation": "v",
         "showlegend": false,
         "type": "scatter",
         "x": [
          "2023-08-01",
          "2023-09-01",
          "2023-10-01",
          "2023-11-01",
          "2023-12-01",
          "2024-01-01",
          "2024-02-01",
          "2024-03-01",
          "2024-04-01",
          "2024-05-01",
          "2024-06-01"
         ],
         "xaxis": "x",
         "y": [
          4.36667345477458,
          4.359928779058525,
          4.33492651780762,
          4.3715306867886445,
          4.43994358239593,
          4.439230680303342,
          4.409352287141348,
          4.376167119787257,
          4.347551080041173,
          4.359533810603194,
          4.378966507450854
         ],
         "yaxis": "y"
        }
       ],
       "layout": {
        "legend": {
         "title": {
          "text": "Account Name"
         },
         "tracegroupgap": 0
        },
        "template": {
         "data": {
          "bar": [
           {
            "error_x": {
             "color": "#2a3f5f"
            },
            "error_y": {
             "color": "#2a3f5f"
            },
            "marker": {
             "line": {
              "color": "#E5ECF6",
              "width": 0.5
             },
             "pattern": {
              "fillmode": "overlay",
              "size": 10,
              "solidity": 0.2
             }
            },
            "type": "bar"
           }
          ],
          "barpolar": [
           {
            "marker": {
             "line": {
              "color": "#E5ECF6",
              "width": 0.5
             },
             "pattern": {
              "fillmode": "overlay",
              "size": 10,
              "solidity": 0.2
             }
            },
            "type": "barpolar"
           }
          ],
          "carpet": [
           {
            "aaxis": {
             "endlinecolor": "#2a3f5f",
             "gridcolor": "white",
             "linecolor": "white",
             "minorgridcolor": "white",
             "startlinecolor": "#2a3f5f"
            },
            "baxis": {
             "endlinecolor": "#2a3f5f",
             "gridcolor": "white",
             "linecolor": "white",
             "minorgridcolor": "white",
             "startlinecolor": "#2a3f5f"
            },
            "type": "carpet"
           }
          ],
          "choropleth": [
           {
            "colorbar": {
             "outlinewidth": 0,
             "ticks": ""
            },
            "type": "choropleth"
           }
          ],
          "contour": [
           {
            "colorbar": {
             "outlinewidth": 0,
             "ticks": ""
            },
            "colorscale": [
             [
              0,
              "#0d0887"
             ],
             [
              0.1111111111111111,
              "#46039f"
             ],
             [
              0.2222222222222222,
              "#7201a8"
             ],
             [
              0.3333333333333333,
              "#9c179e"
             ],
             [
              0.4444444444444444,
              "#bd3786"
             ],
             [
              0.5555555555555556,
              "#d8576b"
             ],
             [
              0.6666666666666666,
              "#ed7953"
             ],
             [
              0.7777777777777778,
              "#fb9f3a"
             ],
             [
              0.8888888888888888,
              "#fdca26"
             ],
             [
              1,
              "#f0f921"
             ]
            ],
            "type": "contour"
           }
          ],
          "contourcarpet": [
           {
            "colorbar": {
             "outlinewidth": 0,
             "ticks": ""
            },
            "type": "contourcarpet"
           }
          ],
          "heatmap": [
           {
            "colorbar": {
             "outlinewidth": 0,
             "ticks": ""
            },
            "colorscale": [
             [
              0,
              "#0d0887"
             ],
             [
              0.1111111111111111,
              "#46039f"
             ],
             [
              0.2222222222222222,
              "#7201a8"
             ],
             [
              0.3333333333333333,
              "#9c179e"
             ],
             [
              0.4444444444444444,
              "#bd3786"
             ],
             [
              0.5555555555555556,
              "#d8576b"
             ],
             [
              0.6666666666666666,
              "#ed7953"
             ],
             [
              0.7777777777777778,
              "#fb9f3a"
             ],
             [
              0.8888888888888888,
              "#fdca26"
             ],
             [
              1,
              "#f0f921"
             ]
            ],
            "type": "heatmap"
           }
          ],
          "heatmapgl": [
           {
            "colorbar": {
             "outlinewidth": 0,
             "ticks": ""
            },
            "colorscale": [
             [
              0,
              "#0d0887"
             ],
             [
              0.1111111111111111,
              "#46039f"
             ],
             [
              0.2222222222222222,
              "#7201a8"
             ],
             [
              0.3333333333333333,
              "#9c179e"
             ],
             [
              0.4444444444444444,
              "#bd3786"
             ],
             [
              0.5555555555555556,
              "#d8576b"
             ],
             [
              0.6666666666666666,
              "#ed7953"
             ],
             [
              0.7777777777777778,
              "#fb9f3a"
             ],
             [
              0.8888888888888888,
              "#fdca26"
             ],
             [
              1,
              "#f0f921"
             ]
            ],
            "type": "heatmapgl"
           }
          ],
          "histogram": [
           {
            "marker": {
             "pattern": {
              "fillmode": "overlay",
              "size": 10,
              "solidity": 0.2
             }
            },
            "type": "histogram"
           }
          ],
          "histogram2d": [
           {
            "colorbar": {
             "outlinewidth": 0,
             "ticks": ""
            },
            "colorscale": [
             [
              0,
              "#0d0887"
             ],
             [
              0.1111111111111111,
              "#46039f"
             ],
             [
              0.2222222222222222,
              "#7201a8"
             ],
             [
              0.3333333333333333,
              "#9c179e"
             ],
             [
              0.4444444444444444,
              "#bd3786"
             ],
             [
              0.5555555555555556,
              "#d8576b"
             ],
             [
              0.6666666666666666,
              "#ed7953"
             ],
             [
              0.7777777777777778,
              "#fb9f3a"
             ],
             [
              0.8888888888888888,
              "#fdca26"
             ],
             [
              1,
              "#f0f921"
             ]
            ],
            "type": "histogram2d"
           }
          ],
          "histogram2dcontour": [
           {
            "colorbar": {
             "outlinewidth": 0,
             "ticks": ""
            },
            "colorscale": [
             [
              0,
              "#0d0887"
             ],
             [
              0.1111111111111111,
              "#46039f"
             ],
             [
              0.2222222222222222,
              "#7201a8"
             ],
             [
              0.3333333333333333,
              "#9c179e"
             ],
             [
              0.4444444444444444,
              "#bd3786"
             ],
             [
              0.5555555555555556,
              "#d8576b"
             ],
             [
              0.6666666666666666,
              "#ed7953"
             ],
             [
              0.7777777777777778,
              "#fb9f3a"
             ],
             [
              0.8888888888888888,
              "#fdca26"
             ],
             [
              1,
              "#f0f921"
             ]
            ],
            "type": "histogram2dcontour"
           }
          ],
          "mesh3d": [
           {
            "colorbar": {
             "outlinewidth": 0,
             "ticks": ""
            },
            "type": "mesh3d"
           }
          ],
          "parcoords": [
           {
            "line": {
             "colorbar": {
              "outlinewidth": 0,
              "ticks": ""
             }
            },
            "type": "parcoords"
           }
          ],
          "pie": [
           {
            "automargin": true,
            "type": "pie"
           }
          ],
          "scatter": [
           {
            "fillpattern": {
             "fillmode": "overlay",
             "size": 10,
             "solidity": 0.2
            },
            "type": "scatter"
           }
          ],
          "scatter3d": [
           {
            "line": {
             "colorbar": {
              "outlinewidth": 0,
              "ticks": ""
             }
            },
            "marker": {
             "colorbar": {
              "outlinewidth": 0,
              "ticks": ""
             }
            },
            "type": "scatter3d"
           }
          ],
          "scattercarpet": [
           {
            "marker": {
             "colorbar": {
              "outlinewidth": 0,
              "ticks": ""
             }
            },
            "type": "scattercarpet"
           }
          ],
          "scattergeo": [
           {
            "marker": {
             "colorbar": {
              "outlinewidth": 0,
              "ticks": ""
             }
            },
            "type": "scattergeo"
           }
          ],
          "scattergl": [
           {
            "marker": {
             "colorbar": {
              "outlinewidth": 0,
              "ticks": ""
             }
            },
            "type": "scattergl"
           }
          ],
          "scattermapbox": [
           {
            "marker": {
             "colorbar": {
              "outlinewidth": 0,
              "ticks": ""
             }
            },
            "type": "scattermapbox"
           }
          ],
          "scatterpolar": [
           {
            "marker": {
             "colorbar": {
              "outlinewidth": 0,
              "ticks": ""
             }
            },
            "type": "scatterpolar"
           }
          ],
          "scatterpolargl": [
           {
            "marker": {
             "colorbar": {
              "outlinewidth": 0,
              "ticks": ""
             }
            },
            "type": "scatterpolargl"
           }
          ],
          "scatterternary": [
           {
            "marker": {
             "colorbar": {
              "outlinewidth": 0,
              "ticks": ""
             }
            },
            "type": "scatterternary"
           }
          ],
          "surface": [
           {
            "colorbar": {
             "outlinewidth": 0,
             "ticks": ""
            },
            "colorscale": [
             [
              0,
              "#0d0887"
             ],
             [
              0.1111111111111111,
              "#46039f"
             ],
             [
              0.2222222222222222,
              "#7201a8"
             ],
             [
              0.3333333333333333,
              "#9c179e"
             ],
             [
              0.4444444444444444,
              "#bd3786"
             ],
             [
              0.5555555555555556,
              "#d8576b"
             ],
             [
              0.6666666666666666,
              "#ed7953"
             ],
             [
              0.7777777777777778,
              "#fb9f3a"
             ],
             [
              0.8888888888888888,
              "#fdca26"
             ],
             [
              1,
              "#f0f921"
             ]
            ],
            "type": "surface"
           }
          ],
          "table": [
           {
            "cells": {
             "fill": {
              "color": "#EBF0F8"
             },
             "line": {
              "color": "white"
             }
            },
            "header": {
             "fill": {
              "color": "#C8D4E3"
             },
             "line": {
              "color": "white"
             }
            },
            "type": "table"
           }
          ]
         },
         "layout": {
          "annotationdefaults": {
           "arrowcolor": "#2a3f5f",
           "arrowhead": 0,
           "arrowwidth": 1
          },
          "autotypenumbers": "strict",
          "coloraxis": {
           "colorbar": {
            "outlinewidth": 0,
            "ticks": ""
           }
          },
          "colorscale": {
           "diverging": [
            [
             0,
             "#8e0152"
            ],
            [
             0.1,
             "#c51b7d"
            ],
            [
             0.2,
             "#de77ae"
            ],
            [
             0.3,
             "#f1b6da"
            ],
            [
             0.4,
             "#fde0ef"
            ],
            [
             0.5,
             "#f7f7f7"
            ],
            [
             0.6,
             "#e6f5d0"
            ],
            [
             0.7,
             "#b8e186"
            ],
            [
             0.8,
             "#7fbc41"
            ],
            [
             0.9,
             "#4d9221"
            ],
            [
             1,
             "#276419"
            ]
           ],
           "sequential": [
            [
             0,
             "#0d0887"
            ],
            [
             0.1111111111111111,
             "#46039f"
            ],
            [
             0.2222222222222222,
             "#7201a8"
            ],
            [
             0.3333333333333333,
             "#9c179e"
            ],
            [
             0.4444444444444444,
             "#bd3786"
            ],
            [
             0.5555555555555556,
             "#d8576b"
            ],
            [
             0.6666666666666666,
             "#ed7953"
            ],
            [
             0.7777777777777778,
             "#fb9f3a"
            ],
            [
             0.8888888888888888,
             "#fdca26"
            ],
            [
             1,
             "#f0f921"
            ]
           ],
           "sequentialminus": [
            [
             0,
             "#0d0887"
            ],
            [
             0.1111111111111111,
             "#46039f"
            ],
            [
             0.2222222222222222,
             "#7201a8"
            ],
            [
             0.3333333333333333,
             "#9c179e"
            ],
            [
             0.4444444444444444,
             "#bd3786"
            ],
            [
             0.5555555555555556,
             "#d8576b"
            ],
            [
             0.6666666666666666,
             "#ed7953"
            ],
            [
             0.7777777777777778,
             "#fb9f3a"
            ],
            [
             0.8888888888888888,
             "#fdca26"
            ],
            [
             1,
             "#f0f921"
            ]
           ]
          },
          "colorway": [
           "#636efa",
           "#EF553B",
           "#00cc96",
           "#ab63fa",
           "#FFA15A",
           "#19d3f3",
           "#FF6692",
           "#B6E880",
           "#FF97FF",
           "#FECB52"
          ],
          "font": {
           "color": "#2a3f5f"
          },
          "geo": {
           "bgcolor": "white",
           "lakecolor": "white",
           "landcolor": "#E5ECF6",
           "showlakes": true,
           "showland": true,
           "subunitcolor": "white"
          },
          "hoverlabel": {
           "align": "left"
          },
          "hovermode": "closest",
          "mapbox": {
           "style": "light"
          },
          "paper_bgcolor": "white",
          "plot_bgcolor": "#E5ECF6",
          "polar": {
           "angularaxis": {
            "gridcolor": "white",
            "linecolor": "white",
            "ticks": ""
           },
           "bgcolor": "#E5ECF6",
           "radialaxis": {
            "gridcolor": "white",
            "linecolor": "white",
            "ticks": ""
           }
          },
          "scene": {
           "xaxis": {
            "backgroundcolor": "#E5ECF6",
            "gridcolor": "white",
            "gridwidth": 2,
            "linecolor": "white",
            "showbackground": true,
            "ticks": "",
            "zerolinecolor": "white"
           },
           "yaxis": {
            "backgroundcolor": "#E5ECF6",
            "gridcolor": "white",
            "gridwidth": 2,
            "linecolor": "white",
            "showbackground": true,
            "ticks": "",
            "zerolinecolor": "white"
           },
           "zaxis": {
            "backgroundcolor": "#E5ECF6",
            "gridcolor": "white",
            "gridwidth": 2,
            "linecolor": "white",
            "showbackground": true,
            "ticks": "",
            "zerolinecolor": "white"
           }
          },
          "shapedefaults": {
           "line": {
            "color": "#2a3f5f"
           }
          },
          "ternary": {
           "aaxis": {
            "gridcolor": "white",
            "linecolor": "white",
            "ticks": ""
           },
           "baxis": {
            "gridcolor": "white",
            "linecolor": "white",
            "ticks": ""
           },
           "bgcolor": "#E5ECF6",
           "caxis": {
            "gridcolor": "white",
            "linecolor": "white",
            "ticks": ""
           }
          },
          "title": {
           "x": 0.05
          },
          "xaxis": {
           "automargin": true,
           "gridcolor": "white",
           "linecolor": "white",
           "ticks": "",
           "title": {
            "standoff": 15
           },
           "zerolinecolor": "white",
           "zerolinewidth": 2
          },
          "yaxis": {
           "automargin": true,
           "gridcolor": "white",
           "linecolor": "white",
           "ticks": "",
           "title": {
            "standoff": 15
           },
           "zerolinecolor": "white",
           "zerolinewidth": 2
          }
         }
        },
        "title": {
         "text": "APY Trends All Market for Savings Accounts"
        },
        "xaxis": {
         "anchor": "y",
         "domain": [
          0,
          1
         ],
         "title": {}
        },
        "yaxis": {
         "anchor": "x",
         "domain": [
          0,
          1
         ],
         "title": {
          "text": "APY"
         }
        }
       }
      }
     },
     "metadata": {},
     "output_type": "display_data"
    }
   ],
   "source": [
    "grouped_df = df.groupby('date')['apy'].mean().reset_index()\n",
    "grouped_df\n",
    "fig = px.line(grouped_df, x='date', y='apy', title='APY Trends All Market for Savings Accounts')\n",
    "fig.update_layout(xaxis_title=None, yaxis_title='APY', legend_title_text='Account Name')\n",
    "fig.show()"
   ]
  },
  {
   "cell_type": "markdown",
   "metadata": {},
   "source": [
    "## Distribution All Accounts"
   ]
  },
  {
   "cell_type": "code",
   "execution_count": 4,
   "metadata": {},
   "outputs": [
    {
     "data": {
      "application/vnd.plotly.v1+json": {
       "config": {
        "plotlyServerURL": "https://plot.ly"
       },
       "data": [
        {
         "alignmentgroup": "True",
         "bingroup": "x",
         "hovertemplate": "apy=%{x}<br>count=%{y}<extra></extra>",
         "legendgroup": "",
         "marker": {
          "color": "#636efa",
          "pattern": {
           "shape": ""
          }
         },
         "name": "",
         "nbinsx": 40,
         "offsetgroup": "",
         "orientation": "v",
         "showlegend": false,
         "type": "histogram",
         "x": [
          4.049361693186748,
          4.187136437494804,
          4.69239866194655,
          4.743447399377898,
          4.418870429625196,
          4.201690524584741,
          4.787827583086403,
          4.85696219467939,
          4.16517210210814,
          4.749772176034366,
          4.539133593953767,
          4.400248222161491,
          4.6791146946781925,
          4.4197240784695815,
          4.312830601525487,
          4.788108963537501,
          5.09592969139186,
          4.944719798755166,
          4.433678223872312,
          4.451582101676254,
          4.6572926846364595,
          4.304202999076376,
          4.335372235379037,
          3.9239079376240986,
          4.086369448970386,
          3.895748046262843,
          3.9567802375725587,
          4.2433989323302255,
          4.091434377413974,
          4.536110520688739,
          3.9695136411911878,
          4.133655900210585,
          4.577919387554758,
          4.453693891804851,
          4.292580304324957,
          4.3379296734321455,
          4.6313926847014715,
          4.524386662045469,
          4.71405483896165,
          4.604029347755942,
          4.17860292450827,
          4.170485076642094,
          4.716638517227348,
          3.9667337930521547,
          4.746809421192248,
          3.999060701194209,
          4.540327484364912,
          4.808065184746955,
          4.4963432562576315,
          4.663271880586519,
          4.564917489219226,
          4.256125787064543,
          4.16050022608732,
          4.054261651800495,
          4.800002190084619,
          4.418409784263342,
          4.450059823686594,
          4.392571830108122,
          4.054012867963055,
          4.697142154642943,
          3.6513412135255194,
          4.615543236114972,
          4.681505152696856,
          4.1065570370942766,
          4.106493444891007,
          4.058015037636485,
          4.131868263450085,
          4.5686896905395615,
          4.192742517948915,
          4.39243821384123,
          4.259955613141005,
          4.928531038954422,
          4.77568122684518,
          4.373227911293026,
          4.778658021964371,
          4.469944027047286,
          4.703270434400207,
          4.348950179774922,
          4.797654663577414,
          4.178421033877243,
          4.180534274408784,
          4.1771033737503025,
          3.992876352189046,
          4.379471273163098,
          3.9948311138231003,
          4.607485585710507,
          3.972190257312178,
          4.787341226425545,
          4.654240008707974,
          3.9740315910379373,
          4.355921086916055,
          4.5590723419558525,
          4.071363864330289,
          3.998669185319798,
          4.654320062258462,
          4.350374406216814,
          4.117638011330136,
          4.232511771126485,
          4.2126943376118176,
          4.155494872769614,
          4.657360958980594,
          4.66790085107916,
          4.382259440348199,
          4.202684004105088,
          4.69838703548522,
          4.2678794925658226,
          4.509471013861616,
          4.189069009452602,
          4.176527058539225,
          4.169806264139886,
          4.098714519788438,
          4.473436112628953,
          4.233799979593213,
          3.9247060684198276,
          4.535540467866023,
          4.367248256826638,
          4.607404592416624,
          4.190380186794452,
          3.991729920948131,
          4.414915820663328,
          4.009951368324865,
          4.975768500209024,
          4.4320098215020645,
          4.469399184744933,
          4.193595855806392,
          4.318233410517506,
          4.686494092046699,
          3.698171588726109,
          4.576363325044473,
          3.8552693030112115,
          4.490345935374664,
          4.373241849193306,
          4.320352333364099,
          4.2252842242115385,
          4.598162451696616,
          4.951433624480745,
          4.706409609729517,
          4.4101712790652075,
          4.7749112622718775,
          4.529069012567694,
          4.581424888636531,
          4.43242420715434,
          4.1965004746385715,
          3.995949241839154,
          4.508839865302299,
          4.2810632819183905,
          4.542728090758528,
          4.7319324272794665,
          4.445610503406433,
          4.012628493904391,
          4.454145368292616,
          4.430742594781712,
          4.7850364066518285,
          4.026477795901625,
          4.024492551246363,
          4.1484553939364215,
          3.8252315233346,
          3.8692475981583034,
          4.313505765493242,
          4.317398991821289,
          4.1879762718603,
          3.957988025505423,
          3.9197276480955683,
          3.8668243054127935,
          4.268431521238061,
          5.047831295632901,
          4.924892149233942,
          3.9400294026647886,
          4.814514359248045,
          4.581955755163765,
          4.2690568897633,
          4.839945175192103,
          4.351117221184753,
          4.632695528895011,
          4.435104381986369,
          4.6578063958241795,
          4.114321497224696,
          4.620488849110463,
          4.455782596642822,
          4.428149578949339,
          3.924982839187894,
          4.348028821673634,
          4.332814120663924,
          4.2872614134769345,
          4.5395791897162345,
          4.308140713815266,
          3.8607408147410465,
          4.272085949927223,
          4.550946127728641,
          4.776453338337918,
          4.681525478791933,
          4.1187715905476185,
          4.830136862045476,
          4.5118569097531465,
          4.088647629047782,
          3.9956459630331445,
          3.9789847788094965,
          4.426199257363711,
          4.437051879263197,
          4.201475531875391,
          4.187284959646389,
          4.840204982035597,
          4.609313718994723,
          4.59011736973802,
          4.545378103661279,
          4.362972478931633,
          4.037777961941899,
          4.519584466986918,
          4.537677658296352,
          3.928457304248214,
          3.986677787855994,
          4.213105153428444,
          3.85951298197294,
          4.912614653599089,
          4.7566887811018645,
          3.990226658350103,
          4.352286452312927,
          4.731228966921409,
          4.139928369287056,
          4.599029900895419,
          4.145822769380789,
          4.532580050204465,
          4.0230406422878735,
          4.589533308364545,
          3.948401567150055,
          3.948033540774216,
          4.1434748749405745,
          4.615765447485276,
          4.1564130076199275,
          4.045705678908593,
          3.888319528122017,
          5.019735733942786,
          4.652461743411855,
          4.246087416946867,
          4.30116509727527,
          4.673419339460789,
          5.024405787075153,
          4.912472150975944,
          4.554658031631536,
          4.862678098111113,
          4.953601711839678,
          4.830897452904564,
          4.750397879725981,
          3.9945125612900654,
          4.648551842574207,
          5.045426917924468,
          4.539464904719775,
          4.461204895165581,
          4.3072416430953755,
          4.6744961846774595,
          4.359732039085847,
          4.823365982588838,
          5.032721177234345,
          4.7486427833645815,
          4.162244848720727,
          3.8128269385173486,
          4.442769474119811,
          4.349081304383705,
          4.728779535423948,
          4.013373290073324,
          4.518421663252198,
          4.694335767631853,
          3.871456734370344,
          4.227295818539284,
          4.26447260003381,
          4.908754193924801,
          4.080350233537411,
          4.1198338404292105,
          4.802662902143373,
          3.929438449106458,
          3.9729410497122246,
          4.2351023653232405,
          4.725335546624943,
          4.858126158616158,
          4.1486361451146205,
          4.40383705411013,
          3.9141798406174897,
          4.060794208674713,
          4.210234896194932,
          4.7271327780118755,
          4.158657916529597,
          4.290994272615698,
          3.880571803826028,
          4.535212315076546,
          4.630410921114285,
          4.752231602111487,
          3.9698110671865536,
          3.665530952478243,
          4.015140558676213,
          4.177604426384967,
          4.301738916118679,
          4.080431694866859,
          4.022305084807068,
          4.587629598113019,
          3.90870342485248,
          4.513737340412276,
          4.007020624710217,
          4.483106201586262,
          4.581975614712308,
          4.921334471430846,
          4.165219731431106,
          4.182800007464702,
          4.3169803173855925,
          4.866030563311057,
          4.105529124286032,
          4.656691833945955,
          4.161537417077535,
          4.87134679780087,
          4.401545330329615,
          4.886018429537362,
          4.864473886271693,
          3.9897735914184467,
          4.791709905932835,
          4.693510895503038,
          4.467912961511117,
          4.854638373054825,
          4.660872734501399,
          3.9962912108441713,
          4.148508915642708,
          3.9033585781432696,
          3.8975024703343895,
          4.5305767961902506,
          4.0389396463631515,
          4.535897049105297,
          4.626374836452248,
          4.0966856592199665,
          3.9370806401047367,
          4.434074854547384,
          4.291204287356463,
          4.386840860992759
         ],
         "xaxis": "x",
         "yaxis": "y"
        },
        {
         "alignmentgroup": "True",
         "hovertemplate": "apy=%{x}<extra></extra>",
         "legendgroup": "",
         "marker": {
          "color": "#636efa"
         },
         "name": "",
         "notched": true,
         "offsetgroup": "",
         "showlegend": false,
         "type": "box",
         "x": [
          4.049361693186748,
          4.187136437494804,
          4.69239866194655,
          4.743447399377898,
          4.418870429625196,
          4.201690524584741,
          4.787827583086403,
          4.85696219467939,
          4.16517210210814,
          4.749772176034366,
          4.539133593953767,
          4.400248222161491,
          4.6791146946781925,
          4.4197240784695815,
          4.312830601525487,
          4.788108963537501,
          5.09592969139186,
          4.944719798755166,
          4.433678223872312,
          4.451582101676254,
          4.6572926846364595,
          4.304202999076376,
          4.335372235379037,
          3.9239079376240986,
          4.086369448970386,
          3.895748046262843,
          3.9567802375725587,
          4.2433989323302255,
          4.091434377413974,
          4.536110520688739,
          3.9695136411911878,
          4.133655900210585,
          4.577919387554758,
          4.453693891804851,
          4.292580304324957,
          4.3379296734321455,
          4.6313926847014715,
          4.524386662045469,
          4.71405483896165,
          4.604029347755942,
          4.17860292450827,
          4.170485076642094,
          4.716638517227348,
          3.9667337930521547,
          4.746809421192248,
          3.999060701194209,
          4.540327484364912,
          4.808065184746955,
          4.4963432562576315,
          4.663271880586519,
          4.564917489219226,
          4.256125787064543,
          4.16050022608732,
          4.054261651800495,
          4.800002190084619,
          4.418409784263342,
          4.450059823686594,
          4.392571830108122,
          4.054012867963055,
          4.697142154642943,
          3.6513412135255194,
          4.615543236114972,
          4.681505152696856,
          4.1065570370942766,
          4.106493444891007,
          4.058015037636485,
          4.131868263450085,
          4.5686896905395615,
          4.192742517948915,
          4.39243821384123,
          4.259955613141005,
          4.928531038954422,
          4.77568122684518,
          4.373227911293026,
          4.778658021964371,
          4.469944027047286,
          4.703270434400207,
          4.348950179774922,
          4.797654663577414,
          4.178421033877243,
          4.180534274408784,
          4.1771033737503025,
          3.992876352189046,
          4.379471273163098,
          3.9948311138231003,
          4.607485585710507,
          3.972190257312178,
          4.787341226425545,
          4.654240008707974,
          3.9740315910379373,
          4.355921086916055,
          4.5590723419558525,
          4.071363864330289,
          3.998669185319798,
          4.654320062258462,
          4.350374406216814,
          4.117638011330136,
          4.232511771126485,
          4.2126943376118176,
          4.155494872769614,
          4.657360958980594,
          4.66790085107916,
          4.382259440348199,
          4.202684004105088,
          4.69838703548522,
          4.2678794925658226,
          4.509471013861616,
          4.189069009452602,
          4.176527058539225,
          4.169806264139886,
          4.098714519788438,
          4.473436112628953,
          4.233799979593213,
          3.9247060684198276,
          4.535540467866023,
          4.367248256826638,
          4.607404592416624,
          4.190380186794452,
          3.991729920948131,
          4.414915820663328,
          4.009951368324865,
          4.975768500209024,
          4.4320098215020645,
          4.469399184744933,
          4.193595855806392,
          4.318233410517506,
          4.686494092046699,
          3.698171588726109,
          4.576363325044473,
          3.8552693030112115,
          4.490345935374664,
          4.373241849193306,
          4.320352333364099,
          4.2252842242115385,
          4.598162451696616,
          4.951433624480745,
          4.706409609729517,
          4.4101712790652075,
          4.7749112622718775,
          4.529069012567694,
          4.581424888636531,
          4.43242420715434,
          4.1965004746385715,
          3.995949241839154,
          4.508839865302299,
          4.2810632819183905,
          4.542728090758528,
          4.7319324272794665,
          4.445610503406433,
          4.012628493904391,
          4.454145368292616,
          4.430742594781712,
          4.7850364066518285,
          4.026477795901625,
          4.024492551246363,
          4.1484553939364215,
          3.8252315233346,
          3.8692475981583034,
          4.313505765493242,
          4.317398991821289,
          4.1879762718603,
          3.957988025505423,
          3.9197276480955683,
          3.8668243054127935,
          4.268431521238061,
          5.047831295632901,
          4.924892149233942,
          3.9400294026647886,
          4.814514359248045,
          4.581955755163765,
          4.2690568897633,
          4.839945175192103,
          4.351117221184753,
          4.632695528895011,
          4.435104381986369,
          4.6578063958241795,
          4.114321497224696,
          4.620488849110463,
          4.455782596642822,
          4.428149578949339,
          3.924982839187894,
          4.348028821673634,
          4.332814120663924,
          4.2872614134769345,
          4.5395791897162345,
          4.308140713815266,
          3.8607408147410465,
          4.272085949927223,
          4.550946127728641,
          4.776453338337918,
          4.681525478791933,
          4.1187715905476185,
          4.830136862045476,
          4.5118569097531465,
          4.088647629047782,
          3.9956459630331445,
          3.9789847788094965,
          4.426199257363711,
          4.437051879263197,
          4.201475531875391,
          4.187284959646389,
          4.840204982035597,
          4.609313718994723,
          4.59011736973802,
          4.545378103661279,
          4.362972478931633,
          4.037777961941899,
          4.519584466986918,
          4.537677658296352,
          3.928457304248214,
          3.986677787855994,
          4.213105153428444,
          3.85951298197294,
          4.912614653599089,
          4.7566887811018645,
          3.990226658350103,
          4.352286452312927,
          4.731228966921409,
          4.139928369287056,
          4.599029900895419,
          4.145822769380789,
          4.532580050204465,
          4.0230406422878735,
          4.589533308364545,
          3.948401567150055,
          3.948033540774216,
          4.1434748749405745,
          4.615765447485276,
          4.1564130076199275,
          4.045705678908593,
          3.888319528122017,
          5.019735733942786,
          4.652461743411855,
          4.246087416946867,
          4.30116509727527,
          4.673419339460789,
          5.024405787075153,
          4.912472150975944,
          4.554658031631536,
          4.862678098111113,
          4.953601711839678,
          4.830897452904564,
          4.750397879725981,
          3.9945125612900654,
          4.648551842574207,
          5.045426917924468,
          4.539464904719775,
          4.461204895165581,
          4.3072416430953755,
          4.6744961846774595,
          4.359732039085847,
          4.823365982588838,
          5.032721177234345,
          4.7486427833645815,
          4.162244848720727,
          3.8128269385173486,
          4.442769474119811,
          4.349081304383705,
          4.728779535423948,
          4.013373290073324,
          4.518421663252198,
          4.694335767631853,
          3.871456734370344,
          4.227295818539284,
          4.26447260003381,
          4.908754193924801,
          4.080350233537411,
          4.1198338404292105,
          4.802662902143373,
          3.929438449106458,
          3.9729410497122246,
          4.2351023653232405,
          4.725335546624943,
          4.858126158616158,
          4.1486361451146205,
          4.40383705411013,
          3.9141798406174897,
          4.060794208674713,
          4.210234896194932,
          4.7271327780118755,
          4.158657916529597,
          4.290994272615698,
          3.880571803826028,
          4.535212315076546,
          4.630410921114285,
          4.752231602111487,
          3.9698110671865536,
          3.665530952478243,
          4.015140558676213,
          4.177604426384967,
          4.301738916118679,
          4.080431694866859,
          4.022305084807068,
          4.587629598113019,
          3.90870342485248,
          4.513737340412276,
          4.007020624710217,
          4.483106201586262,
          4.581975614712308,
          4.921334471430846,
          4.165219731431106,
          4.182800007464702,
          4.3169803173855925,
          4.866030563311057,
          4.105529124286032,
          4.656691833945955,
          4.161537417077535,
          4.87134679780087,
          4.401545330329615,
          4.886018429537362,
          4.864473886271693,
          3.9897735914184467,
          4.791709905932835,
          4.693510895503038,
          4.467912961511117,
          4.854638373054825,
          4.660872734501399,
          3.9962912108441713,
          4.148508915642708,
          3.9033585781432696,
          3.8975024703343895,
          4.5305767961902506,
          4.0389396463631515,
          4.535897049105297,
          4.626374836452248,
          4.0966856592199665,
          3.9370806401047367,
          4.434074854547384,
          4.291204287356463,
          4.386840860992759
         ],
         "xaxis": "x2",
         "yaxis": "y2"
        }
       ],
       "layout": {
        "barmode": "relative",
        "legend": {
         "tracegroupgap": 0
        },
        "template": {
         "data": {
          "bar": [
           {
            "error_x": {
             "color": "#2a3f5f"
            },
            "error_y": {
             "color": "#2a3f5f"
            },
            "marker": {
             "line": {
              "color": "#E5ECF6",
              "width": 0.5
             },
             "pattern": {
              "fillmode": "overlay",
              "size": 10,
              "solidity": 0.2
             }
            },
            "type": "bar"
           }
          ],
          "barpolar": [
           {
            "marker": {
             "line": {
              "color": "#E5ECF6",
              "width": 0.5
             },
             "pattern": {
              "fillmode": "overlay",
              "size": 10,
              "solidity": 0.2
             }
            },
            "type": "barpolar"
           }
          ],
          "carpet": [
           {
            "aaxis": {
             "endlinecolor": "#2a3f5f",
             "gridcolor": "white",
             "linecolor": "white",
             "minorgridcolor": "white",
             "startlinecolor": "#2a3f5f"
            },
            "baxis": {
             "endlinecolor": "#2a3f5f",
             "gridcolor": "white",
             "linecolor": "white",
             "minorgridcolor": "white",
             "startlinecolor": "#2a3f5f"
            },
            "type": "carpet"
           }
          ],
          "choropleth": [
           {
            "colorbar": {
             "outlinewidth": 0,
             "ticks": ""
            },
            "type": "choropleth"
           }
          ],
          "contour": [
           {
            "colorbar": {
             "outlinewidth": 0,
             "ticks": ""
            },
            "colorscale": [
             [
              0,
              "#0d0887"
             ],
             [
              0.1111111111111111,
              "#46039f"
             ],
             [
              0.2222222222222222,
              "#7201a8"
             ],
             [
              0.3333333333333333,
              "#9c179e"
             ],
             [
              0.4444444444444444,
              "#bd3786"
             ],
             [
              0.5555555555555556,
              "#d8576b"
             ],
             [
              0.6666666666666666,
              "#ed7953"
             ],
             [
              0.7777777777777778,
              "#fb9f3a"
             ],
             [
              0.8888888888888888,
              "#fdca26"
             ],
             [
              1,
              "#f0f921"
             ]
            ],
            "type": "contour"
           }
          ],
          "contourcarpet": [
           {
            "colorbar": {
             "outlinewidth": 0,
             "ticks": ""
            },
            "type": "contourcarpet"
           }
          ],
          "heatmap": [
           {
            "colorbar": {
             "outlinewidth": 0,
             "ticks": ""
            },
            "colorscale": [
             [
              0,
              "#0d0887"
             ],
             [
              0.1111111111111111,
              "#46039f"
             ],
             [
              0.2222222222222222,
              "#7201a8"
             ],
             [
              0.3333333333333333,
              "#9c179e"
             ],
             [
              0.4444444444444444,
              "#bd3786"
             ],
             [
              0.5555555555555556,
              "#d8576b"
             ],
             [
              0.6666666666666666,
              "#ed7953"
             ],
             [
              0.7777777777777778,
              "#fb9f3a"
             ],
             [
              0.8888888888888888,
              "#fdca26"
             ],
             [
              1,
              "#f0f921"
             ]
            ],
            "type": "heatmap"
           }
          ],
          "heatmapgl": [
           {
            "colorbar": {
             "outlinewidth": 0,
             "ticks": ""
            },
            "colorscale": [
             [
              0,
              "#0d0887"
             ],
             [
              0.1111111111111111,
              "#46039f"
             ],
             [
              0.2222222222222222,
              "#7201a8"
             ],
             [
              0.3333333333333333,
              "#9c179e"
             ],
             [
              0.4444444444444444,
              "#bd3786"
             ],
             [
              0.5555555555555556,
              "#d8576b"
             ],
             [
              0.6666666666666666,
              "#ed7953"
             ],
             [
              0.7777777777777778,
              "#fb9f3a"
             ],
             [
              0.8888888888888888,
              "#fdca26"
             ],
             [
              1,
              "#f0f921"
             ]
            ],
            "type": "heatmapgl"
           }
          ],
          "histogram": [
           {
            "marker": {
             "pattern": {
              "fillmode": "overlay",
              "size": 10,
              "solidity": 0.2
             }
            },
            "type": "histogram"
           }
          ],
          "histogram2d": [
           {
            "colorbar": {
             "outlinewidth": 0,
             "ticks": ""
            },
            "colorscale": [
             [
              0,
              "#0d0887"
             ],
             [
              0.1111111111111111,
              "#46039f"
             ],
             [
              0.2222222222222222,
              "#7201a8"
             ],
             [
              0.3333333333333333,
              "#9c179e"
             ],
             [
              0.4444444444444444,
              "#bd3786"
             ],
             [
              0.5555555555555556,
              "#d8576b"
             ],
             [
              0.6666666666666666,
              "#ed7953"
             ],
             [
              0.7777777777777778,
              "#fb9f3a"
             ],
             [
              0.8888888888888888,
              "#fdca26"
             ],
             [
              1,
              "#f0f921"
             ]
            ],
            "type": "histogram2d"
           }
          ],
          "histogram2dcontour": [
           {
            "colorbar": {
             "outlinewidth": 0,
             "ticks": ""
            },
            "colorscale": [
             [
              0,
              "#0d0887"
             ],
             [
              0.1111111111111111,
              "#46039f"
             ],
             [
              0.2222222222222222,
              "#7201a8"
             ],
             [
              0.3333333333333333,
              "#9c179e"
             ],
             [
              0.4444444444444444,
              "#bd3786"
             ],
             [
              0.5555555555555556,
              "#d8576b"
             ],
             [
              0.6666666666666666,
              "#ed7953"
             ],
             [
              0.7777777777777778,
              "#fb9f3a"
             ],
             [
              0.8888888888888888,
              "#fdca26"
             ],
             [
              1,
              "#f0f921"
             ]
            ],
            "type": "histogram2dcontour"
           }
          ],
          "mesh3d": [
           {
            "colorbar": {
             "outlinewidth": 0,
             "ticks": ""
            },
            "type": "mesh3d"
           }
          ],
          "parcoords": [
           {
            "line": {
             "colorbar": {
              "outlinewidth": 0,
              "ticks": ""
             }
            },
            "type": "parcoords"
           }
          ],
          "pie": [
           {
            "automargin": true,
            "type": "pie"
           }
          ],
          "scatter": [
           {
            "fillpattern": {
             "fillmode": "overlay",
             "size": 10,
             "solidity": 0.2
            },
            "type": "scatter"
           }
          ],
          "scatter3d": [
           {
            "line": {
             "colorbar": {
              "outlinewidth": 0,
              "ticks": ""
             }
            },
            "marker": {
             "colorbar": {
              "outlinewidth": 0,
              "ticks": ""
             }
            },
            "type": "scatter3d"
           }
          ],
          "scattercarpet": [
           {
            "marker": {
             "colorbar": {
              "outlinewidth": 0,
              "ticks": ""
             }
            },
            "type": "scattercarpet"
           }
          ],
          "scattergeo": [
           {
            "marker": {
             "colorbar": {
              "outlinewidth": 0,
              "ticks": ""
             }
            },
            "type": "scattergeo"
           }
          ],
          "scattergl": [
           {
            "marker": {
             "colorbar": {
              "outlinewidth": 0,
              "ticks": ""
             }
            },
            "type": "scattergl"
           }
          ],
          "scattermapbox": [
           {
            "marker": {
             "colorbar": {
              "outlinewidth": 0,
              "ticks": ""
             }
            },
            "type": "scattermapbox"
           }
          ],
          "scatterpolar": [
           {
            "marker": {
             "colorbar": {
              "outlinewidth": 0,
              "ticks": ""
             }
            },
            "type": "scatterpolar"
           }
          ],
          "scatterpolargl": [
           {
            "marker": {
             "colorbar": {
              "outlinewidth": 0,
              "ticks": ""
             }
            },
            "type": "scatterpolargl"
           }
          ],
          "scatterternary": [
           {
            "marker": {
             "colorbar": {
              "outlinewidth": 0,
              "ticks": ""
             }
            },
            "type": "scatterternary"
           }
          ],
          "surface": [
           {
            "colorbar": {
             "outlinewidth": 0,
             "ticks": ""
            },
            "colorscale": [
             [
              0,
              "#0d0887"
             ],
             [
              0.1111111111111111,
              "#46039f"
             ],
             [
              0.2222222222222222,
              "#7201a8"
             ],
             [
              0.3333333333333333,
              "#9c179e"
             ],
             [
              0.4444444444444444,
              "#bd3786"
             ],
             [
              0.5555555555555556,
              "#d8576b"
             ],
             [
              0.6666666666666666,
              "#ed7953"
             ],
             [
              0.7777777777777778,
              "#fb9f3a"
             ],
             [
              0.8888888888888888,
              "#fdca26"
             ],
             [
              1,
              "#f0f921"
             ]
            ],
            "type": "surface"
           }
          ],
          "table": [
           {
            "cells": {
             "fill": {
              "color": "#EBF0F8"
             },
             "line": {
              "color": "white"
             }
            },
            "header": {
             "fill": {
              "color": "#C8D4E3"
             },
             "line": {
              "color": "white"
             }
            },
            "type": "table"
           }
          ]
         },
         "layout": {
          "annotationdefaults": {
           "arrowcolor": "#2a3f5f",
           "arrowhead": 0,
           "arrowwidth": 1
          },
          "autotypenumbers": "strict",
          "coloraxis": {
           "colorbar": {
            "outlinewidth": 0,
            "ticks": ""
           }
          },
          "colorscale": {
           "diverging": [
            [
             0,
             "#8e0152"
            ],
            [
             0.1,
             "#c51b7d"
            ],
            [
             0.2,
             "#de77ae"
            ],
            [
             0.3,
             "#f1b6da"
            ],
            [
             0.4,
             "#fde0ef"
            ],
            [
             0.5,
             "#f7f7f7"
            ],
            [
             0.6,
             "#e6f5d0"
            ],
            [
             0.7,
             "#b8e186"
            ],
            [
             0.8,
             "#7fbc41"
            ],
            [
             0.9,
             "#4d9221"
            ],
            [
             1,
             "#276419"
            ]
           ],
           "sequential": [
            [
             0,
             "#0d0887"
            ],
            [
             0.1111111111111111,
             "#46039f"
            ],
            [
             0.2222222222222222,
             "#7201a8"
            ],
            [
             0.3333333333333333,
             "#9c179e"
            ],
            [
             0.4444444444444444,
             "#bd3786"
            ],
            [
             0.5555555555555556,
             "#d8576b"
            ],
            [
             0.6666666666666666,
             "#ed7953"
            ],
            [
             0.7777777777777778,
             "#fb9f3a"
            ],
            [
             0.8888888888888888,
             "#fdca26"
            ],
            [
             1,
             "#f0f921"
            ]
           ],
           "sequentialminus": [
            [
             0,
             "#0d0887"
            ],
            [
             0.1111111111111111,
             "#46039f"
            ],
            [
             0.2222222222222222,
             "#7201a8"
            ],
            [
             0.3333333333333333,
             "#9c179e"
            ],
            [
             0.4444444444444444,
             "#bd3786"
            ],
            [
             0.5555555555555556,
             "#d8576b"
            ],
            [
             0.6666666666666666,
             "#ed7953"
            ],
            [
             0.7777777777777778,
             "#fb9f3a"
            ],
            [
             0.8888888888888888,
             "#fdca26"
            ],
            [
             1,
             "#f0f921"
            ]
           ]
          },
          "colorway": [
           "#636efa",
           "#EF553B",
           "#00cc96",
           "#ab63fa",
           "#FFA15A",
           "#19d3f3",
           "#FF6692",
           "#B6E880",
           "#FF97FF",
           "#FECB52"
          ],
          "font": {
           "color": "#2a3f5f"
          },
          "geo": {
           "bgcolor": "white",
           "lakecolor": "white",
           "landcolor": "#E5ECF6",
           "showlakes": true,
           "showland": true,
           "subunitcolor": "white"
          },
          "hoverlabel": {
           "align": "left"
          },
          "hovermode": "closest",
          "mapbox": {
           "style": "light"
          },
          "paper_bgcolor": "white",
          "plot_bgcolor": "#E5ECF6",
          "polar": {
           "angularaxis": {
            "gridcolor": "white",
            "linecolor": "white",
            "ticks": ""
           },
           "bgcolor": "#E5ECF6",
           "radialaxis": {
            "gridcolor": "white",
            "linecolor": "white",
            "ticks": ""
           }
          },
          "scene": {
           "xaxis": {
            "backgroundcolor": "#E5ECF6",
            "gridcolor": "white",
            "gridwidth": 2,
            "linecolor": "white",
            "showbackground": true,
            "ticks": "",
            "zerolinecolor": "white"
           },
           "yaxis": {
            "backgroundcolor": "#E5ECF6",
            "gridcolor": "white",
            "gridwidth": 2,
            "linecolor": "white",
            "showbackground": true,
            "ticks": "",
            "zerolinecolor": "white"
           },
           "zaxis": {
            "backgroundcolor": "#E5ECF6",
            "gridcolor": "white",
            "gridwidth": 2,
            "linecolor": "white",
            "showbackground": true,
            "ticks": "",
            "zerolinecolor": "white"
           }
          },
          "shapedefaults": {
           "line": {
            "color": "#2a3f5f"
           }
          },
          "ternary": {
           "aaxis": {
            "gridcolor": "white",
            "linecolor": "white",
            "ticks": ""
           },
           "baxis": {
            "gridcolor": "white",
            "linecolor": "white",
            "ticks": ""
           },
           "bgcolor": "#E5ECF6",
           "caxis": {
            "gridcolor": "white",
            "linecolor": "white",
            "ticks": ""
           }
          },
          "title": {
           "x": 0.05
          },
          "xaxis": {
           "automargin": true,
           "gridcolor": "white",
           "linecolor": "white",
           "ticks": "",
           "title": {
            "standoff": 15
           },
           "zerolinecolor": "white",
           "zerolinewidth": 2
          },
          "yaxis": {
           "automargin": true,
           "gridcolor": "white",
           "linecolor": "white",
           "ticks": "",
           "title": {
            "standoff": 15
           },
           "zerolinecolor": "white",
           "zerolinewidth": 2
          }
         }
        },
        "title": {
         "text": "Distribution of APY All Market"
        },
        "xaxis": {
         "anchor": "y",
         "domain": [
          0,
          1
         ],
         "title": {
          "text": "APY"
         }
        },
        "xaxis2": {
         "anchor": "y2",
         "domain": [
          0,
          1
         ],
         "matches": "x",
         "showgrid": true,
         "showticklabels": false
        },
        "yaxis": {
         "anchor": "x",
         "domain": [
          0,
          0.8316
         ],
         "title": {
          "text": "Count"
         }
        },
        "yaxis2": {
         "anchor": "x2",
         "domain": [
          0.8416,
          1
         ],
         "matches": "y2",
         "showgrid": false,
         "showline": false,
         "showticklabels": false,
         "ticks": ""
        }
       }
      }
     },
     "metadata": {},
     "output_type": "display_data"
    }
   ],
   "source": [
    "fig = px.histogram(df, x='apy', nbins=40, marginal='box', title='Distribution of APY All Market')\n",
    "fig.update_layout(xaxis_title='APY', yaxis_title='Count')\n",
    "fig.show()"
   ]
  }
 ],
 "metadata": {
  "kernelspec": {
   "display_name": "Python 3",
   "language": "python",
   "name": "python3"
  },
  "language_info": {
   "codemirror_mode": {
    "name": "ipython",
    "version": 3
   },
   "file_extension": ".py",
   "mimetype": "text/x-python",
   "name": "python",
   "nbconvert_exporter": "python",
   "pygments_lexer": "ipython3",
   "version": "3.11.6"
  }
 },
 "nbformat": 4,
 "nbformat_minor": 2
}
