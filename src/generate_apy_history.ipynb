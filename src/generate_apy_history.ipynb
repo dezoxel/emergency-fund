{
 "cells": [
  {
   "cell_type": "code",
   "execution_count": 3,
   "metadata": {},
   "outputs": [
    {
     "name": "stdout",
     "output_type": "stream",
     "text": [
      "The APY history has been generated and saved to the CSV file.\n"
     ]
    }
   ],
   "source": [
    "from dotenv import load_dotenv\n",
    "import pandas as pd\n",
    "\n",
    "from app.config import get_database_path, get_start_date, get_end_date, get_apy_ranges, get_apy_history_csv_path\n",
    "from app.apy_history_generation import generate_apy_history, save_apy_history_to_csv\n",
    "from infra.savings_account_repo import fetch_savings_accounts\n",
    "from infra.db_connection import db_connect\n",
    "\n",
    "load_dotenv()\n",
    "db_path = get_database_path()\n",
    "start_date = get_start_date()\n",
    "end_date = get_end_date()\n",
    "apy_ranges = get_apy_ranges()\n",
    "apy_history_csv_path = get_apy_history_csv_path()\n",
    "date_range = pd.date_range(start_date, end_date, freq='MS')\n",
    "conn = db_connect(db_path)\n",
    "accounts = fetch_savings_accounts(conn)\n",
    "apy_history = generate_apy_history(accounts, date_range, apy_ranges)\n",
    "save_apy_history_to_csv(apy_history, apy_history_csv_path)"
   ]
  }
 ],
 "metadata": {
  "kernelspec": {
   "display_name": "Python 3",
   "language": "python",
   "name": "python3"
  },
  "language_info": {
   "codemirror_mode": {
    "name": "ipython",
    "version": 3
   },
   "file_extension": ".py",
   "mimetype": "text/x-python",
   "name": "python",
   "nbconvert_exporter": "python",
   "pygments_lexer": "ipython3",
   "version": "3.11.9"
  }
 },
 "nbformat": 4,
 "nbformat_minor": 2
}
