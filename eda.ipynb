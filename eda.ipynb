{
 "cells": [
  {
   "cell_type": "markdown",
   "metadata": {},
   "source": [
    "## Install and Setup"
   ]
  },
  {
   "cell_type": "code",
   "execution_count": 67,
   "metadata": {},
   "outputs": [],
   "source": [
    "import sqlite3\n",
    "import pandas as pd\n",
    "import plotly.express as px\n",
    "\n",
    "conn = sqlite3.connect('data/emergency_fund.db')\n",
    "query = \"\"\"\n",
    "    SELECT\n",
    "        saly.account_id,\n",
    "        institution_id,\n",
    "        account_type,\n",
    "        account_name,\n",
    "        date,\n",
    "        apy\n",
    "    FROM savings_accounts sa\n",
    "    JOIN savings_accounts_apy_last_year saly ON sa.id = saly.account_id\n",
    "    \"\"\"\n",
    "df = pd.read_sql_query(query, conn)\n"
   ]
  },
  {
   "cell_type": "markdown",
   "metadata": {},
   "source": [
    "## Descriptive Statistics"
   ]
  },
  {
   "cell_type": "code",
   "execution_count": null,
   "metadata": {},
   "outputs": [],
   "source": [
    "df"
   ]
  },
  {
   "cell_type": "code",
   "execution_count": null,
   "metadata": {},
   "outputs": [],
   "source": [
    "df.describe()"
   ]
  },
  {
   "cell_type": "code",
   "execution_count": null,
   "metadata": {},
   "outputs": [],
   "source": [
    "grouped_df = df.groupby('account_name')['apy']\n",
    "grouped_df.describe()"
   ]
  },
  {
   "cell_type": "markdown",
   "metadata": {},
   "source": [
    "## Trends"
   ]
  },
  {
   "cell_type": "code",
   "execution_count": null,
   "metadata": {},
   "outputs": [],
   "source": [
    "fig = px.line(df, x='date', y='apy', color='account_name', title='APY Trends by Account for Savings Accounts')\n",
    "\n",
    "for i, trace in enumerate(fig.data):\n",
    "    if i >= 3:\n",
    "        trace.visible = 'legendonly'\n",
    "\n",
    "fig.update_layout(xaxis_title=None, yaxis_title='APY', legend_title_text='Account Name')\n",
    "fig.show()\n"
   ]
  },
  {
   "cell_type": "code",
   "execution_count": null,
   "metadata": {},
   "outputs": [],
   "source": [
    "grouped_df = df.groupby('date')['apy'].mean().reset_index()\n",
    "grouped_df\n",
    "fig = px.line(grouped_df, x='date', y='apy', title='APY Trends All Market for Savings Accounts')\n",
    "fig.update_layout(xaxis_title=None, yaxis_title='APY', legend_title_text='Account Name')\n",
    "fig.show()"
   ]
  },
  {
   "cell_type": "markdown",
   "metadata": {},
   "source": [
    "## Distribution"
   ]
  },
  {
   "cell_type": "code",
   "execution_count": null,
   "metadata": {},
   "outputs": [],
   "source": [
    "fig = px.histogram(df, x='apy', nbins=40, marginal='box', title='Distribution of APY All Market')\n",
    "fig.update_layout(xaxis_title='APY', yaxis_title='Count')\n",
    "fig.show()"
   ]
  }
 ],
 "metadata": {
  "kernelspec": {
   "display_name": "Python 3",
   "language": "python",
   "name": "python3"
  },
  "language_info": {
   "codemirror_mode": {
    "name": "ipython",
    "version": 3
   },
   "file_extension": ".py",
   "mimetype": "text/x-python",
   "name": "python",
   "nbconvert_exporter": "python",
   "pygments_lexer": "ipython3",
   "version": "3.11.6"
  }
 },
 "nbformat": 4,
 "nbformat_minor": 2
}
